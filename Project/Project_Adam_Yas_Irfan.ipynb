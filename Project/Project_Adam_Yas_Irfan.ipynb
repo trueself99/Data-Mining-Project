{
 "cells": [
  {
   "cell_type": "code",
   "execution_count": 3,
   "id": "2331d0f2",
   "metadata": {},
   "outputs": [],
   "source": [
    "import pandas as pd\n",
    "import numpy as np\n",
    "import matplotlib.pyplot as plt\n",
    "import seaborn as sns\n",
    "import math\n",
    "import calendar\n",
    "import imblearn\n",
    "\n",
    "#(ii) What types of customers will likely to choose Washer No. 2 and Dryer No. 3? (can try ohe then target jadi washer 2/dryer 3)"
   ]
  },
  {
   "cell_type": "code",
   "execution_count": 4,
   "id": "0cc9ce62",
   "metadata": {},
   "outputs": [
    {
     "data": {
      "text/html": [
       "<div>\n",
       "<style scoped>\n",
       "    .dataframe tbody tr th:only-of-type {\n",
       "        vertical-align: middle;\n",
       "    }\n",
       "\n",
       "    .dataframe tbody tr th {\n",
       "        vertical-align: top;\n",
       "    }\n",
       "\n",
       "    .dataframe thead th {\n",
       "        text-align: right;\n",
       "    }\n",
       "</style>\n",
       "<table border=\"1\" class=\"dataframe\">\n",
       "  <thead>\n",
       "    <tr style=\"text-align: right;\">\n",
       "      <th></th>\n",
       "      <th>Date</th>\n",
       "      <th>Time</th>\n",
       "      <th>Race</th>\n",
       "      <th>Gender</th>\n",
       "      <th>Body_Size</th>\n",
       "      <th>Age_Range</th>\n",
       "      <th>With_Kids</th>\n",
       "      <th>Kids_Category</th>\n",
       "      <th>Basket_Size</th>\n",
       "      <th>Basket_colour</th>\n",
       "      <th>...</th>\n",
       "      <th>shirt_type</th>\n",
       "      <th>Pants_Colour</th>\n",
       "      <th>pants_type</th>\n",
       "      <th>Wash_Item</th>\n",
       "      <th>Washer_No</th>\n",
       "      <th>Dryer_No</th>\n",
       "      <th>Spectacles</th>\n",
       "      <th>latitude</th>\n",
       "      <th>longitude</th>\n",
       "      <th>Num_of_Baskets</th>\n",
       "    </tr>\n",
       "  </thead>\n",
       "  <tbody>\n",
       "    <tr>\n",
       "      <th>0</th>\n",
       "      <td>19/10/2015</td>\n",
       "      <td>20:17:50</td>\n",
       "      <td>malay</td>\n",
       "      <td>male</td>\n",
       "      <td>moderate</td>\n",
       "      <td>28.0</td>\n",
       "      <td>yes</td>\n",
       "      <td>young</td>\n",
       "      <td>big</td>\n",
       "      <td>red</td>\n",
       "      <td>...</td>\n",
       "      <td>short_sleeve</td>\n",
       "      <td>black</td>\n",
       "      <td>short</td>\n",
       "      <td>clothes</td>\n",
       "      <td>3</td>\n",
       "      <td>10</td>\n",
       "      <td>no</td>\n",
       "      <td>2.912316</td>\n",
       "      <td>101.657948</td>\n",
       "      <td>1.0</td>\n",
       "    </tr>\n",
       "    <tr>\n",
       "      <th>1</th>\n",
       "      <td>19/10/2015</td>\n",
       "      <td>20:28:42</td>\n",
       "      <td>NaN</td>\n",
       "      <td>male</td>\n",
       "      <td>thin</td>\n",
       "      <td>32.0</td>\n",
       "      <td>no</td>\n",
       "      <td>no_kids</td>\n",
       "      <td>big</td>\n",
       "      <td>NaN</td>\n",
       "      <td>...</td>\n",
       "      <td>short_sleeve</td>\n",
       "      <td>blue_jeans</td>\n",
       "      <td>long</td>\n",
       "      <td>NaN</td>\n",
       "      <td>6</td>\n",
       "      <td>9</td>\n",
       "      <td>no</td>\n",
       "      <td>2.922506</td>\n",
       "      <td>101.643129</td>\n",
       "      <td>3.0</td>\n",
       "    </tr>\n",
       "    <tr>\n",
       "      <th>2</th>\n",
       "      <td>19/10/2015</td>\n",
       "      <td>20:58:31</td>\n",
       "      <td>malay</td>\n",
       "      <td>female</td>\n",
       "      <td>moderate</td>\n",
       "      <td>30.0</td>\n",
       "      <td>no</td>\n",
       "      <td>no_kids</td>\n",
       "      <td>big</td>\n",
       "      <td>blue</td>\n",
       "      <td>...</td>\n",
       "      <td>short_sleeve</td>\n",
       "      <td>black</td>\n",
       "      <td>long</td>\n",
       "      <td>NaN</td>\n",
       "      <td>4</td>\n",
       "      <td>10</td>\n",
       "      <td>no</td>\n",
       "      <td>2.935533</td>\n",
       "      <td>101.737170</td>\n",
       "      <td>1.0</td>\n",
       "    </tr>\n",
       "    <tr>\n",
       "      <th>3</th>\n",
       "      <td>19/10/2015</td>\n",
       "      <td>21:31:28</td>\n",
       "      <td>indian</td>\n",
       "      <td>male</td>\n",
       "      <td>thin</td>\n",
       "      <td>51.0</td>\n",
       "      <td>no</td>\n",
       "      <td>no_kids</td>\n",
       "      <td>NaN</td>\n",
       "      <td>black</td>\n",
       "      <td>...</td>\n",
       "      <td>short_sleeve</td>\n",
       "      <td>yellow</td>\n",
       "      <td>short</td>\n",
       "      <td>clothes</td>\n",
       "      <td>5</td>\n",
       "      <td>9</td>\n",
       "      <td>no</td>\n",
       "      <td>2.949924</td>\n",
       "      <td>101.637069</td>\n",
       "      <td>1.0</td>\n",
       "    </tr>\n",
       "    <tr>\n",
       "      <th>4</th>\n",
       "      <td>19/10/2015</td>\n",
       "      <td>21:40:28</td>\n",
       "      <td>indian</td>\n",
       "      <td>male</td>\n",
       "      <td>NaN</td>\n",
       "      <td>34.0</td>\n",
       "      <td>no</td>\n",
       "      <td>no_kids</td>\n",
       "      <td>big</td>\n",
       "      <td>blue</td>\n",
       "      <td>...</td>\n",
       "      <td>NaN</td>\n",
       "      <td>white</td>\n",
       "      <td>long</td>\n",
       "      <td>clothes</td>\n",
       "      <td>3</td>\n",
       "      <td>9</td>\n",
       "      <td>NaN</td>\n",
       "      <td>2.903530</td>\n",
       "      <td>101.661249</td>\n",
       "      <td>3.0</td>\n",
       "    </tr>\n",
       "  </tbody>\n",
       "</table>\n",
       "<p>5 rows × 22 columns</p>\n",
       "</div>"
      ],
      "text/plain": [
       "         Date      Time    Race  Gender Body_Size  Age_Range With_Kids  \\\n",
       "0  19/10/2015  20:17:50   malay    male  moderate       28.0       yes   \n",
       "1  19/10/2015  20:28:42     NaN    male      thin       32.0        no   \n",
       "2  19/10/2015  20:58:31   malay  female  moderate       30.0        no   \n",
       "3  19/10/2015  21:31:28  indian    male      thin       51.0        no   \n",
       "4  19/10/2015  21:40:28  indian    male       NaN       34.0        no   \n",
       "\n",
       "  Kids_Category Basket_Size Basket_colour  ...    shirt_type Pants_Colour  \\\n",
       "0         young         big           red  ...  short_sleeve        black   \n",
       "1       no_kids         big           NaN  ...  short_sleeve   blue_jeans   \n",
       "2       no_kids         big          blue  ...  short_sleeve        black   \n",
       "3       no_kids         NaN         black  ...  short_sleeve       yellow   \n",
       "4       no_kids         big          blue  ...           NaN        white   \n",
       "\n",
       "  pants_type Wash_Item Washer_No Dryer_No  Spectacles  latitude   longitude  \\\n",
       "0      short   clothes         3       10          no  2.912316  101.657948   \n",
       "1       long       NaN         6        9          no  2.922506  101.643129   \n",
       "2       long       NaN         4       10          no  2.935533  101.737170   \n",
       "3      short   clothes         5        9          no  2.949924  101.637069   \n",
       "4       long   clothes         3        9         NaN  2.903530  101.661249   \n",
       "\n",
       "   Num_of_Baskets  \n",
       "0             1.0  \n",
       "1             3.0  \n",
       "2             1.0  \n",
       "3             1.0  \n",
       "4             3.0  \n",
       "\n",
       "[5 rows x 22 columns]"
      ]
     },
     "execution_count": 4,
     "metadata": {},
     "output_type": "execute_result"
    }
   ],
   "source": [
    "df = pd.read_csv(\"data/LaundryData_2021_T2.csv\")\n",
    "\n",
    "df1 = df.copy()\n",
    "df1.head()"
   ]
  },
  {
   "cell_type": "code",
   "execution_count": 5,
   "id": "3e213738",
   "metadata": {
    "scrolled": true
   },
   "outputs": [
    {
     "name": "stdout",
     "output_type": "stream",
     "text": [
      "<class 'pandas.core.frame.DataFrame'>\n",
      "RangeIndex: 4000 entries, 0 to 3999\n",
      "Data columns (total 22 columns):\n",
      " #   Column          Non-Null Count  Dtype  \n",
      "---  ------          --------------  -----  \n",
      " 0   Date            4000 non-null   object \n",
      " 1   Time            4000 non-null   object \n",
      " 2   Race            3802 non-null   object \n",
      " 3   Gender          3823 non-null   object \n",
      " 4   Body_Size       3817 non-null   object \n",
      " 5   Age_Range       3857 non-null   float64\n",
      " 6   With_Kids       3814 non-null   object \n",
      " 7   Kids_Category   3970 non-null   object \n",
      " 8   Basket_Size     3795 non-null   object \n",
      " 9   Basket_colour   3797 non-null   object \n",
      " 10  Attire          3783 non-null   object \n",
      " 11  Shirt_Colour    3826 non-null   object \n",
      " 12  shirt_type      3815 non-null   object \n",
      " 13  Pants_Colour    3826 non-null   object \n",
      " 14  pants_type      3991 non-null   object \n",
      " 15  Wash_Item       3819 non-null   object \n",
      " 16  Washer_No       4000 non-null   int64  \n",
      " 17  Dryer_No        4000 non-null   int64  \n",
      " 18  Spectacles      3791 non-null   object \n",
      " 19  latitude        4000 non-null   float64\n",
      " 20  longitude       4000 non-null   float64\n",
      " 21  Num_of_Baskets  3818 non-null   float64\n",
      "dtypes: float64(4), int64(2), object(16)\n",
      "memory usage: 687.6+ KB\n"
     ]
    }
   ],
   "source": [
    "df1.info()"
   ]
  },
  {
   "cell_type": "code",
   "execution_count": 6,
   "id": "a4bd16b7",
   "metadata": {},
   "outputs": [
    {
     "data": {
      "text/plain": [
       "Date                0\n",
       "Time                0\n",
       "Race              198\n",
       "Gender            177\n",
       "Body_Size         183\n",
       "Age_Range         143\n",
       "With_Kids         186\n",
       "Kids_Category      30\n",
       "Basket_Size       205\n",
       "Basket_colour     203\n",
       "Attire            217\n",
       "Shirt_Colour      174\n",
       "shirt_type        185\n",
       "Pants_Colour      174\n",
       "pants_type          9\n",
       "Wash_Item         181\n",
       "Washer_No           0\n",
       "Dryer_No            0\n",
       "Spectacles        209\n",
       "latitude            0\n",
       "longitude           0\n",
       "Num_of_Baskets    182\n",
       "dtype: int64"
      ]
     },
     "execution_count": 6,
     "metadata": {},
     "output_type": "execute_result"
    }
   ],
   "source": [
    "df1.isna().sum()"
   ]
  },
  {
   "cell_type": "markdown",
   "id": "a5c8288c",
   "metadata": {},
   "source": [
    "# Cleaning the data"
   ]
  },
  {
   "cell_type": "code",
   "execution_count": 7,
   "id": "d446e42b",
   "metadata": {},
   "outputs": [
    {
     "data": {
      "text/html": [
       "<div>\n",
       "<style scoped>\n",
       "    .dataframe tbody tr th:only-of-type {\n",
       "        vertical-align: middle;\n",
       "    }\n",
       "\n",
       "    .dataframe tbody tr th {\n",
       "        vertical-align: top;\n",
       "    }\n",
       "\n",
       "    .dataframe thead th {\n",
       "        text-align: right;\n",
       "    }\n",
       "</style>\n",
       "<table border=\"1\" class=\"dataframe\">\n",
       "  <thead>\n",
       "    <tr style=\"text-align: right;\">\n",
       "      <th></th>\n",
       "      <th>DATE</th>\n",
       "      <th>TIME</th>\n",
       "      <th>RACE</th>\n",
       "      <th>GENDER</th>\n",
       "      <th>BODY_SIZE</th>\n",
       "      <th>AGE</th>\n",
       "      <th>WITH_KIDS</th>\n",
       "      <th>KIDS_CATEGORY</th>\n",
       "      <th>BASKET_SIZE</th>\n",
       "      <th>BASKET_COLOUR</th>\n",
       "      <th>...</th>\n",
       "      <th>WASH_ITEM</th>\n",
       "      <th>WASHER_NO</th>\n",
       "      <th>DRYER_NO</th>\n",
       "      <th>SPECTACLES</th>\n",
       "      <th>LATITUDE</th>\n",
       "      <th>LONGITUDE</th>\n",
       "      <th>NUM_OF_BASKETS</th>\n",
       "      <th>DATE_TIME</th>\n",
       "      <th>DAY</th>\n",
       "      <th>DAY_TYPE</th>\n",
       "    </tr>\n",
       "  </thead>\n",
       "  <tbody>\n",
       "    <tr>\n",
       "      <th>0</th>\n",
       "      <td>19/10/2015</td>\n",
       "      <td>20:17:50</td>\n",
       "      <td>malay</td>\n",
       "      <td>male</td>\n",
       "      <td>moderate</td>\n",
       "      <td>28.0</td>\n",
       "      <td>yes</td>\n",
       "      <td>young</td>\n",
       "      <td>big</td>\n",
       "      <td>red</td>\n",
       "      <td>...</td>\n",
       "      <td>clothes</td>\n",
       "      <td>3</td>\n",
       "      <td>10</td>\n",
       "      <td>no</td>\n",
       "      <td>2.912316</td>\n",
       "      <td>101.657948</td>\n",
       "      <td>1.0</td>\n",
       "      <td>2015-10-19 20:17:50</td>\n",
       "      <td>Monday</td>\n",
       "      <td>weekday</td>\n",
       "    </tr>\n",
       "    <tr>\n",
       "      <th>1</th>\n",
       "      <td>19/10/2015</td>\n",
       "      <td>20:28:42</td>\n",
       "      <td>malay</td>\n",
       "      <td>male</td>\n",
       "      <td>thin</td>\n",
       "      <td>32.0</td>\n",
       "      <td>no</td>\n",
       "      <td>no kids</td>\n",
       "      <td>big</td>\n",
       "      <td>white</td>\n",
       "      <td>...</td>\n",
       "      <td>clothes</td>\n",
       "      <td>6</td>\n",
       "      <td>9</td>\n",
       "      <td>no</td>\n",
       "      <td>2.922506</td>\n",
       "      <td>101.643129</td>\n",
       "      <td>3.0</td>\n",
       "      <td>2015-10-19 20:28:42</td>\n",
       "      <td>Monday</td>\n",
       "      <td>weekday</td>\n",
       "    </tr>\n",
       "    <tr>\n",
       "      <th>2</th>\n",
       "      <td>19/10/2015</td>\n",
       "      <td>20:58:31</td>\n",
       "      <td>malay</td>\n",
       "      <td>female</td>\n",
       "      <td>moderate</td>\n",
       "      <td>30.0</td>\n",
       "      <td>no</td>\n",
       "      <td>no kids</td>\n",
       "      <td>big</td>\n",
       "      <td>blue</td>\n",
       "      <td>...</td>\n",
       "      <td>clothes</td>\n",
       "      <td>4</td>\n",
       "      <td>10</td>\n",
       "      <td>no</td>\n",
       "      <td>2.935533</td>\n",
       "      <td>101.737170</td>\n",
       "      <td>1.0</td>\n",
       "      <td>2015-10-19 20:58:31</td>\n",
       "      <td>Monday</td>\n",
       "      <td>weekday</td>\n",
       "    </tr>\n",
       "    <tr>\n",
       "      <th>3</th>\n",
       "      <td>19/10/2015</td>\n",
       "      <td>21:31:28</td>\n",
       "      <td>indian</td>\n",
       "      <td>male</td>\n",
       "      <td>thin</td>\n",
       "      <td>51.0</td>\n",
       "      <td>no</td>\n",
       "      <td>no kids</td>\n",
       "      <td>big</td>\n",
       "      <td>black</td>\n",
       "      <td>...</td>\n",
       "      <td>clothes</td>\n",
       "      <td>5</td>\n",
       "      <td>9</td>\n",
       "      <td>no</td>\n",
       "      <td>2.949924</td>\n",
       "      <td>101.637069</td>\n",
       "      <td>1.0</td>\n",
       "      <td>2015-10-19 21:31:28</td>\n",
       "      <td>Monday</td>\n",
       "      <td>weekday</td>\n",
       "    </tr>\n",
       "    <tr>\n",
       "      <th>4</th>\n",
       "      <td>19/10/2015</td>\n",
       "      <td>21:40:28</td>\n",
       "      <td>indian</td>\n",
       "      <td>male</td>\n",
       "      <td>moderate</td>\n",
       "      <td>34.0</td>\n",
       "      <td>no</td>\n",
       "      <td>no kids</td>\n",
       "      <td>big</td>\n",
       "      <td>blue</td>\n",
       "      <td>...</td>\n",
       "      <td>clothes</td>\n",
       "      <td>3</td>\n",
       "      <td>9</td>\n",
       "      <td>no</td>\n",
       "      <td>2.903530</td>\n",
       "      <td>101.661249</td>\n",
       "      <td>3.0</td>\n",
       "      <td>2015-10-19 21:40:28</td>\n",
       "      <td>Monday</td>\n",
       "      <td>weekday</td>\n",
       "    </tr>\n",
       "  </tbody>\n",
       "</table>\n",
       "<p>5 rows × 25 columns</p>\n",
       "</div>"
      ],
      "text/plain": [
       "         DATE      TIME    RACE  GENDER BODY_SIZE   AGE WITH_KIDS  \\\n",
       "0  19/10/2015  20:17:50   malay    male  moderate  28.0       yes   \n",
       "1  19/10/2015  20:28:42   malay    male      thin  32.0        no   \n",
       "2  19/10/2015  20:58:31   malay  female  moderate  30.0        no   \n",
       "3  19/10/2015  21:31:28  indian    male      thin  51.0        no   \n",
       "4  19/10/2015  21:40:28  indian    male  moderate  34.0        no   \n",
       "\n",
       "  KIDS_CATEGORY BASKET_SIZE BASKET_COLOUR  ... WASH_ITEM WASHER_NO DRYER_NO  \\\n",
       "0         young         big           red  ...   clothes         3       10   \n",
       "1       no kids         big         white  ...   clothes         6        9   \n",
       "2       no kids         big          blue  ...   clothes         4       10   \n",
       "3       no kids         big         black  ...   clothes         5        9   \n",
       "4       no kids         big          blue  ...   clothes         3        9   \n",
       "\n",
       "  SPECTACLES  LATITUDE   LONGITUDE  NUM_OF_BASKETS           DATE_TIME  \\\n",
       "0         no  2.912316  101.657948             1.0 2015-10-19 20:17:50   \n",
       "1         no  2.922506  101.643129             3.0 2015-10-19 20:28:42   \n",
       "2         no  2.935533  101.737170             1.0 2015-10-19 20:58:31   \n",
       "3         no  2.949924  101.637069             1.0 2015-10-19 21:31:28   \n",
       "4         no  2.903530  101.661249             3.0 2015-10-19 21:40:28   \n",
       "\n",
       "      DAY  DAY_TYPE  \n",
       "0  Monday   weekday  \n",
       "1  Monday   weekday  \n",
       "2  Monday   weekday  \n",
       "3  Monday   weekday  \n",
       "4  Monday   weekday  \n",
       "\n",
       "[5 rows x 25 columns]"
      ]
     },
     "execution_count": 7,
     "metadata": {},
     "output_type": "execute_result"
    }
   ],
   "source": [
    "#change column headers to UPPERCASE\n",
    "df1.columns = df.columns.str.upper()\n",
    "\n",
    "#Renaming column AGE_RANGE to AGE\n",
    "df1 = df1.rename(columns = {\"AGE_RANGE\": \"AGE\"})\n",
    "\n",
    "#Replace AGE null with mean age\n",
    "age_Mean = df1[\"AGE\"].mean()\n",
    "df1[\"AGE\"] = df1[\"AGE\"].fillna(int(age_Mean))\n",
    "df1[\"NUM_OF_BASKETS\"] = df1[\"NUM_OF_BASKETS\"].fillna(int(age_Mean))\n",
    "\n",
    "#Replace categorical null with mode (race, body size, kids, basket size etc)\n",
    "df1['RACE'] = df1['RACE'].fillna(df1['RACE'].value_counts().index[0])\n",
    "df1['GENDER'] = df1['GENDER'].fillna(df1['GENDER'].value_counts().index[0])\n",
    "df1['BODY_SIZE'] = df1['BODY_SIZE'].fillna(df1['BODY_SIZE'].value_counts().index[0])\n",
    "df1['WITH_KIDS'] = df1['WITH_KIDS'].fillna(df1['WITH_KIDS'].value_counts().index[0])\n",
    "df1['KIDS_CATEGORY'] = df1['KIDS_CATEGORY'].fillna(df1['KIDS_CATEGORY'].value_counts().index[0])\n",
    "df1['BASKET_SIZE'] = df1['BASKET_SIZE'].fillna(df1['BASKET_SIZE'].value_counts().index[0])\n",
    "df1['BASKET_COLOUR'] = df1['BASKET_COLOUR'].fillna(df1['BASKET_COLOUR'].value_counts().index[0])\n",
    "df1['ATTIRE'] = df1['ATTIRE'].fillna(df1['ATTIRE'].value_counts().index[0])\n",
    "df1['SHIRT_COLOUR'] = df1['SHIRT_COLOUR'].fillna(df1['SHIRT_COLOUR'].value_counts().index[0])\n",
    "df1['SHIRT_TYPE'] = df1['SHIRT_TYPE'].fillna(df1['SHIRT_TYPE'].value_counts().index[0])\n",
    "df1['PANTS_COLOUR'] = df1['PANTS_COLOUR'].fillna(df1['PANTS_COLOUR'].value_counts().index[0])\n",
    "df1['PANTS_TYPE'] = df1['PANTS_TYPE'].fillna(df1['PANTS_TYPE'].value_counts().index[0])\n",
    "df1['WASH_ITEM'] = df1['WASH_ITEM'].fillna(df1['WASH_ITEM'].value_counts().index[0])\n",
    "df1['SPECTACLES'] = df1['SPECTACLES'].fillna(df1['SPECTACLES'].value_counts().index[0])\n",
    "\n",
    "#Removing '_' from column values\n",
    "df1[\"KIDS_CATEGORY\"] = df1[\"KIDS_CATEGORY\"].str.replace(\"_\", \" \")\n",
    "df1[\"SHIRT_TYPE\"] = df1[\"SHIRT_TYPE\"].str.replace(\"_\", \" \")\n",
    "\n",
    "#Change blue_jeans to blue\n",
    "df1[\"PANTS_COLOUR\"] = df1[\"PANTS_COLOUR\"].replace([\"blue_jeans\"], \"blue\")\n",
    "\n",
    "#clean time column ';'\n",
    "df1[\"TIME\"] = df1[\"TIME\"].str.replace(\";\", \":\")\n",
    "\n",
    "#Add \"DATE_TIME\" column\n",
    "df1[\"DATE_TIME\"] = df1[\"DATE\"] + \" \" + df1[\"TIME\"]\n",
    "df1[\"DATE_TIME\"] = pd.to_datetime(df1['DATE_TIME'])\n",
    "\n",
    "\n",
    "#Add \"DAY\" and \"WEEKDAY\" column\n",
    "day = df1[\"DATE_TIME\"].dt.dayofweek\n",
    "df1[\"DAY\"] = df1[\"DATE_TIME\"].dt.day_name()\n",
    "df1[\"DAY_TYPE\"] = (day < 5).astype(str)\n",
    "df1[\"DAY_TYPE\"] = df1[\"DAY_TYPE\"].str.replace(\"True\", \"weekday\")\n",
    "df1[\"DAY_TYPE\"] = df1[\"DAY_TYPE\"].str.replace(\"False\", \"weekend\")\n",
    "\n",
    "df1.head()"
   ]
  },
  {
   "cell_type": "markdown",
   "id": "9b1922ed",
   "metadata": {},
   "source": [
    "# Exploring the Data"
   ]
  },
  {
   "cell_type": "code",
   "execution_count": 8,
   "id": "f8a53b68",
   "metadata": {},
   "outputs": [
    {
     "data": {
      "text/plain": [
       "(30, 40]    1074\n",
       "(40, 50]    1010\n",
       "(50, 60]     856\n",
       "(20, 30]     838\n",
       "(10, 20]     222\n",
       "Name: AGE_RANGE, dtype: int64"
      ]
     },
     "execution_count": 8,
     "metadata": {},
     "output_type": "execute_result"
    }
   ],
   "source": [
    "analysis = df1.copy()\n",
    "\n",
    "df_ages = analysis['AGE']\n",
    "\n",
    "analysis['AGE_RANGE'] = pd.cut(x=df_ages, bins=[10,20,30,40,50,60])\n",
    "analysis['AGE_RANGE'].value_counts()"
   ]
  },
  {
   "cell_type": "code",
   "execution_count": 9,
   "id": "52df8840",
   "metadata": {},
   "outputs": [
    {
     "data": {
      "text/plain": [
       "Text(0.5, 0, 'Age Range')"
      ]
     },
     "execution_count": 9,
     "metadata": {},
     "output_type": "execute_result"
    },
    {
     "data": {
      "image/png": "[encoded data removed]",
      "text/plain": [
       "<Figure size 432x288 with 1 Axes>"
      ]
     },
     "metadata": {
      "needs_background": "light"
     },
     "output_type": "display_data"
    }
   ],
   "source": [
    "age = sns.countplot(data = analysis\n",
    "                   , x = \"AGE_RANGE\"\n",
    "                   , color = 'royalblue')\n",
    "age.set_title(\"Age Range\")\n",
    "age.set_xlabel(\"Age Range\")"
   ]
  },
  {
   "cell_type": "code",
   "execution_count": 10,
   "id": "59e52250",
   "metadata": {},
   "outputs": [
    {
     "data": {
      "text/plain": [
       "Text(0.5, 0, 'Day')"
      ]
     },
     "execution_count": 10,
     "metadata": {},
     "output_type": "execute_result"
    },
    {
     "data": {
      "image/png": "[encoded data removed]",
      "text/plain": [
       "<Figure size 720x360 with 1 Axes>"
      ]
     },
     "metadata": {
      "needs_background": "light"
     },
     "output_type": "display_data"
    }
   ],
   "source": [
    "fig_dims = (10,5)\n",
    "fig, ax = plt.subplots(figsize = fig_dims)\n",
    "day = sns.countplot(data = analysis\n",
    "                   ,x = \"DAY\"\n",
    "                   ,ax=ax\n",
    "                   ,color = 'royalblue')\n",
    "day.set_xlabel(\"Day\")"
   ]
  },
  {
   "cell_type": "code",
   "execution_count": 11,
   "id": "6f53501e",
   "metadata": {},
   "outputs": [
    {
     "data": {
      "text/plain": [
       "Text(0.5, 0, 'Gender')"
      ]
     },
     "execution_count": 11,
     "metadata": {},
     "output_type": "execute_result"
    },
    {
     "data": {
      "image/png": "[encoded data removed]",
      "text/plain": [
       "<Figure size 432x360 with 1 Axes>"
      ]
     },
     "metadata": {
      "needs_background": "light"
     },
     "output_type": "display_data"
    }
   ],
   "source": [
    "fig_dims = (6,5)\n",
    "fig, ax = plt.subplots(figsize = fig_dims)\n",
    "gender = sns.countplot(data = analysis\n",
    "                   ,x = \"GENDER\"\n",
    "                   ,ax=ax\n",
    "                   ,color = 'royalblue')\n",
    "gender.set_xlabel(\"Gender\")"
   ]
  },
  {
   "cell_type": "code",
   "execution_count": 12,
   "id": "e6e841b8",
   "metadata": {},
   "outputs": [
    {
     "data": {
      "text/plain": [
       "Text(0.5, 0, 'Race')"
      ]
     },
     "execution_count": 12,
     "metadata": {},
     "output_type": "execute_result"
    },
    {
     "data": {
      "image/png": "[encoded data removed]",
      "text/plain": [
       "<Figure size 720x360 with 1 Axes>"
      ]
     },
     "metadata": {
      "needs_background": "light"
     },
     "output_type": "display_data"
    }
   ],
   "source": [
    "fig_dims = (10,5)\n",
    "fig, ax = plt.subplots(figsize = fig_dims)\n",
    "race = sns.countplot(data = analysis\n",
    "                   ,x = \"RACE\"\n",
    "                   ,ax=ax\n",
    "                   ,color = 'royalblue')\n",
    "race.set_xlabel(\"Race\")"
   ]
  },
  {
   "cell_type": "code",
   "execution_count": 13,
   "id": "58b4d803",
   "metadata": {},
   "outputs": [
    {
     "data": {
      "text/plain": [
       "Text(0.5, 0, 'Day Type')"
      ]
     },
     "execution_count": 13,
     "metadata": {},
     "output_type": "execute_result"
    },
    {
     "data": {
      "image/png": "[encoded data removed]",
      "text/plain": [
       "<Figure size 360x720 with 1 Axes>"
      ]
     },
     "metadata": {
      "needs_background": "light"
     },
     "output_type": "display_data"
    }
   ],
   "source": [
    "fig_dims = (5,10)\n",
    "fig, ax = plt.subplots(figsize = fig_dims)\n",
    "race = sns.countplot(data = analysis\n",
    "                   ,x = \"DAY_TYPE\"\n",
    "                   ,ax=ax\n",
    "                   ,color = 'royalblue')\n",
    "race.set_xlabel(\"Day Type\")"
   ]
  },
  {
   "cell_type": "code",
   "execution_count": 14,
   "id": "89dcb7f0",
   "metadata": {},
   "outputs": [
    {
     "name": "stderr",
     "output_type": "stream",
     "text": [
      "C:\\Users\\User\\AppData\\Local\\Temp/ipykernel_2880/2543688446.py:1: FutureWarning: Dropping of nuisance columns in DataFrame reductions (with 'numeric_only=None') is deprecated; in a future version this will raise TypeError.  Select only valid columns before calling the reduction.\n",
      "  df1.skew().sort_values(ascending=True)\n"
     ]
    },
    {
     "data": {
      "text/plain": [
       "LONGITUDE        -0.860774\n",
       "LATITUDE         -0.583154\n",
       "AGE              -0.068045\n",
       "WASHER_NO        -0.003224\n",
       "DRYER_NO          0.030519\n",
       "NUM_OF_BASKETS    4.287368\n",
       "dtype: float64"
      ]
     },
     "execution_count": 14,
     "metadata": {},
     "output_type": "execute_result"
    }
   ],
   "source": [
    "df1.skew().sort_values(ascending=True)"
   ]
  },
  {
   "cell_type": "code",
   "execution_count": 15,
   "id": "6026e4b1",
   "metadata": {},
   "outputs": [
    {
     "data": {
      "image/png": "[encoded data removed]",
      "text/plain": [
       "<Figure size 1152x432 with 2 Axes>"
      ]
     },
     "metadata": {
      "needs_background": "light"
     },
     "output_type": "display_data"
    }
   ],
   "source": [
    "#not working\n",
    "df2 = df1.copy()\n",
    "\n",
    "df_corr = df2.corr()\n",
    "\n",
    "plt.figure(figsize=(16, 6))\n",
    "heatmap = sns.heatmap(df_corr, vmin=-1, vmax=1, annot=True, cmap='BrBG')\n",
    "heatmap.set_title('Correlation Heatmap between diseases and ICU admission', fontdict={'fontsize':18}, pad=12);"
   ]
  },
  {
   "cell_type": "markdown",
   "id": "990f4072",
   "metadata": {},
   "source": [
    "# Association Rule Mining\n"
   ]
  },
  {
   "cell_type": "code",
   "execution_count": 16,
   "id": "d573182c",
   "metadata": {},
   "outputs": [],
   "source": [
    "from mlxtend.preprocessing import TransactionEncoder\n",
    "dfc = df1.copy()\n",
    "\n",
    "te = TransactionEncoder()\n",
    "te_array = te.fit(dfc).transform(dfc)\n",
    "dfarm = pd.DataFrame(te_array, columns=te.columns_)"
   ]
  },
  {
   "cell_type": "code",
   "execution_count": 17,
   "id": "2cb73110",
   "metadata": {},
   "outputs": [
    {
     "name": "stdout",
     "output_type": "stream",
     "text": [
      "          A      B      C      D      E      F      G      H      I      K  \\\n",
      "0      True  False  False   True   True  False  False  False  False  False   \n",
      "1     False  False  False  False   True  False  False  False   True  False   \n",
      "2      True  False   True  False   True  False  False  False  False  False   \n",
      "3     False  False  False   True   True  False   True  False  False  False   \n",
      "4     False   True  False   True   True  False  False  False   True  False   \n",
      "...     ...    ...    ...    ...    ...    ...    ...    ...    ...    ...   \n",
      "3995  False  False  False  False  False  False  False  False  False  False   \n",
      "3996  False  False  False  False  False  False  False  False  False  False   \n",
      "3997  False  False  False  False  False  False  False  False  False  False   \n",
      "3998  False  False  False  False  False  False  False  False  False  False   \n",
      "3999  False  False  False  False  False  False  False  False  False  False   \n",
      "\n",
      "      ...      O      P      R      S      T      U      W      Y      Z  \\\n",
      "0     ...  False  False  False  False   True  False  False  False  False   \n",
      "1     ...  False  False  False  False   True  False  False  False  False   \n",
      "2     ...  False  False   True  False  False  False  False  False  False   \n",
      "3     ...  False  False   True  False  False  False  False  False  False   \n",
      "4     ...   True  False  False   True  False  False  False   True   True   \n",
      "...   ...    ...    ...    ...    ...    ...    ...    ...    ...    ...   \n",
      "3995  ...  False  False  False  False  False  False  False  False  False   \n",
      "3996  ...  False  False  False  False  False  False  False  False  False   \n",
      "3997  ...  False  False  False  False  False  False  False  False  False   \n",
      "3998  ...  False  False  False  False  False  False  False  False  False   \n",
      "3999  ...  False  False  False  False  False  False  False  False  False   \n",
      "\n",
      "          _  \n",
      "0     False  \n",
      "1     False  \n",
      "2     False  \n",
      "3     False  \n",
      "4      True  \n",
      "...     ...  \n",
      "3995  False  \n",
      "3996  False  \n",
      "3997  False  \n",
      "3998  False  \n",
      "3999  False  \n",
      "\n",
      "[4000 rows x 23 columns]\n"
     ]
    }
   ],
   "source": [
    "print(dfarm)"
   ]
  },
  {
   "cell_type": "code",
   "execution_count": 22,
   "id": "f0e3d74c",
   "metadata": {},
   "outputs": [
    {
     "name": "stdout",
     "output_type": "stream",
     "text": [
      "     support            itemsets\n",
      "0    0.00425                 (A)\n",
      "1    0.00100                 (B)\n",
      "2    0.00150                 (C)\n",
      "3    0.00275                 (D)\n",
      "4    0.00525                 (E)\n",
      "..       ...                 ...\n",
      "310  0.00100     (I, H, T, _, S)\n",
      "311  0.00100     (R, T, O, _, S)\n",
      "312  0.00100     (T, O, _, S, U)\n",
      "313  0.00100  (K, T, S, _, E, A)\n",
      "314  0.00100  (R, T, O, C, S, _)\n",
      "\n",
      "[315 rows x 2 columns]\n"
     ]
    }
   ],
   "source": [
    "from mlxtend.frequent_patterns import apriori\n",
    "\n",
    "frequent_itemsets_ap = apriori(dfarm, min_support=0.001, use_colnames=True)\n",
    "print(frequent_itemsets_ap)"
   ]
  },
  {
   "cell_type": "code",
   "execution_count": 26,
   "id": "21c67f53",
   "metadata": {},
   "outputs": [
    {
     "name": "stdout",
     "output_type": "stream",
     "text": [
      "     support   itemsets\n",
      "0    0.00525        (E)\n",
      "1    0.00450        (T)\n",
      "2    0.00425        (A)\n",
      "3    0.00275        (D)\n",
      "4    0.00300        (I)\n",
      "..       ...        ...\n",
      "310  0.00100     (A, P)\n",
      "311  0.00100  (T, P, S)\n",
      "312  0.00100  (T, _, P)\n",
      "313  0.00100  (T, E, P)\n",
      "314  0.00100  (T, A, P)\n",
      "\n",
      "[315 rows x 2 columns]\n"
     ]
    }
   ],
   "source": [
    "from mlxtend.frequent_patterns import fpgrowth\n",
    "\n",
    "frequent_itemsets_fp=fpgrowth(dfarm, min_support=0.001, use_colnames=True)\n",
    "print(frequent_itemsets_fp)"
   ]
  },
  {
   "cell_type": "code",
   "execution_count": 27,
   "id": "ef09fec5",
   "metadata": {},
   "outputs": [
    {
     "name": "stdout",
     "output_type": "stream",
     "text": [
      "    antecedents   consequents  antecedent support  consequent support  \\\n",
      "0           (C)           (A)             0.00150             0.00425   \n",
      "1           (A)           (E)             0.00425             0.00525   \n",
      "2           (K)           (A)             0.00125             0.00425   \n",
      "3           (P)           (A)             0.00125             0.00425   \n",
      "4           (B)           (E)             0.00100             0.00525   \n",
      "..          ...           ...                 ...                 ...   \n",
      "878      (C, R)  (T, O, _, S)             0.00125             0.00125   \n",
      "879      (T, C)  (_, O, S, R)             0.00125             0.00125   \n",
      "880      (C, O)  (T, _, S, R)             0.00100             0.00125   \n",
      "881      (C, S)  (T, O, _, R)             0.00125             0.00100   \n",
      "882      (C, _)  (T, O, S, R)             0.00100             0.00100   \n",
      "\n",
      "     support  confidence         lift  leverage  conviction  \n",
      "0    0.00125    0.833333   196.078431  0.001244    5.974500  \n",
      "1    0.00375    0.882353   168.067227  0.003728    8.455375  \n",
      "2    0.00100    0.800000   188.235294  0.000995    4.978750  \n",
      "3    0.00100    0.800000   188.235294  0.000995    4.978750  \n",
      "4    0.00100    1.000000   190.476190  0.000995         inf  \n",
      "..       ...         ...          ...       ...         ...  \n",
      "878  0.00100    0.800000   640.000000  0.000998    4.993750  \n",
      "879  0.00100    0.800000   640.000000  0.000998    4.993750  \n",
      "880  0.00100    1.000000   800.000000  0.000999         inf  \n",
      "881  0.00100    0.800000   800.000000  0.000999    4.995000  \n",
      "882  0.00100    1.000000  1000.000000  0.000999         inf  \n",
      "\n",
      "[883 rows x 9 columns]\n"
     ]
    }
   ],
   "source": [
    "from mlxtend.frequent_patterns import association_rules\n",
    "\n",
    "rules_ap = association_rules(frequent_itemsets_ap, metric=\"confidence\", min_threshold=0.8)\n",
    "rules_fp = association_rules(frequent_itemsets_fp, metric=\"confidence\", min_threshold=0.8)\n",
    "print(rules_ap)"
   ]
  },
  {
   "cell_type": "code",
   "execution_count": 29,
   "id": "54463633",
   "metadata": {},
   "outputs": [
    {
     "name": "stdout",
     "output_type": "stream",
     "text": [
      "    antecedents consequents  antecedent support  consequent support  support  \\\n",
      "0           (T)         (E)             0.00450             0.00525  0.00375   \n",
      "1           (A)         (E)             0.00425             0.00525  0.00375   \n",
      "2        (T, E)         (A)             0.00375             0.00425  0.00300   \n",
      "3        (T, A)         (E)             0.00325             0.00525  0.00300   \n",
      "4        (E, A)         (T)             0.00375             0.00450  0.00300   \n",
      "..          ...         ...                 ...                 ...      ...   \n",
      "878      (E, P)         (T)             0.00100             0.00450  0.00100   \n",
      "879         (P)      (T, E)             0.00125             0.00375  0.00100   \n",
      "880      (T, P)         (A)             0.00125             0.00425  0.00100   \n",
      "881      (A, P)         (T)             0.00100             0.00450  0.00100   \n",
      "882         (P)      (T, A)             0.00125             0.00325  0.00100   \n",
      "\n",
      "     confidence        lift  leverage  conviction  \n",
      "0      0.833333  158.730159  0.003726    5.968500  \n",
      "1      0.882353  168.067227  0.003728    8.455375  \n",
      "2      0.800000  188.235294  0.002984    4.978750  \n",
      "3      0.923077  175.824176  0.002983   12.931750  \n",
      "4      0.800000  177.777778  0.002983    4.977500  \n",
      "..          ...         ...       ...         ...  \n",
      "878    1.000000  222.222222  0.000996         inf  \n",
      "879    0.800000  213.333333  0.000995    4.981250  \n",
      "880    0.800000  188.235294  0.000995    4.978750  \n",
      "881    1.000000  222.222222  0.000996         inf  \n",
      "882    0.800000  246.153846  0.000996    4.983750  \n",
      "\n",
      "[883 rows x 9 columns]\n"
     ]
    }
   ],
   "source": [
    "print(rules_fp)"
   ]
  },
  {
   "cell_type": "markdown",
   "id": "609863fa",
   "metadata": {},
   "source": [
    "# Clustering\n",
    "## K Means Clustering"
   ]
  },
  {
   "cell_type": "code",
   "execution_count": 30,
   "id": "661f5fcf",
   "metadata": {},
   "outputs": [],
   "source": [
    "from sklearn import datasets\n",
    "import matplotlib.pyplot as plt\n",
    "import seaborn as sns\n",
    "import pandas as pd\n",
    "import numpy as np\n",
    "\n",
    "from sklearn.cluster import KMeans \n",
    "from sklearn.preprocessing import StandardScaler"
   ]
  },
  {
   "cell_type": "code",
   "execution_count": 31,
   "id": "1bd95121",
   "metadata": {},
   "outputs": [
    {
     "name": "stdout",
     "output_type": "stream",
     "text": [
      "[[-1.97435428  0.21973111]\n",
      " [-1.84464068  0.07228199]\n",
      " [-1.67880246  1.00802177]\n",
      " ...\n",
      " [ 0.42822889  0.07158849]\n",
      " [ 0.87987811  0.62911819]\n",
      " [ 0.74914829  0.65056113]]\n"
     ]
    }
   ],
   "source": [
    "x = df1[['LATITUDE','LONGITUDE']]\n",
    "ss = StandardScaler()\n",
    "X = ss.fit_transform(x)\n",
    "\n",
    "print(X)"
   ]
  },
  {
   "cell_type": "code",
   "execution_count": 32,
   "id": "623cefeb",
   "metadata": {},
   "outputs": [],
   "source": [
    "km = KMeans(n_clusters = 10, random_state=1)\n",
    "km.fit(X)\n",
    "y_km = km.predict(X)"
   ]
  },
  {
   "cell_type": "code",
   "execution_count": 33,
   "id": "f3f375fc",
   "metadata": {},
   "outputs": [
    {
     "data": {
      "image/png": "[encoded data removed]",
      "text/plain": [
       "<Figure size 432x288 with 1 Axes>"
      ]
     },
     "metadata": {
      "needs_background": "light"
     },
     "output_type": "display_data"
    }
   ],
   "source": [
    "plt.scatter(X[:, 0], X[:, 1], c=y_km, s=50, cmap='viridis')\n",
    "\n",
    "centers = km.cluster_centers_\n",
    "plt.scatter(centers[:, 0], centers[:, 1], c='black', s=200, alpha=0.5);"
   ]
  },
  {
   "cell_type": "markdown",
   "id": "928249c6",
   "metadata": {},
   "source": [
    "# Encoding the Data"
   ]
  },
  {
   "cell_type": "markdown",
   "id": "ae8bf18e",
   "metadata": {},
   "source": [
    "## Label Encoding"
   ]
  },
  {
   "cell_type": "code",
   "execution_count": 34,
   "id": "ed08eacc",
   "metadata": {},
   "outputs": [],
   "source": [
    "from sklearn.preprocessing import LabelEncoder"
   ]
  },
  {
   "cell_type": "code",
   "execution_count": 35,
   "id": "b47eadee",
   "metadata": {},
   "outputs": [
    {
     "data": {
      "text/html": [
       "<div>\n",
       "<style scoped>\n",
       "    .dataframe tbody tr th:only-of-type {\n",
       "        vertical-align: middle;\n",
       "    }\n",
       "\n",
       "    .dataframe tbody tr th {\n",
       "        vertical-align: top;\n",
       "    }\n",
       "\n",
       "    .dataframe thead th {\n",
       "        text-align: right;\n",
       "    }\n",
       "</style>\n",
       "<table border=\"1\" class=\"dataframe\">\n",
       "  <thead>\n",
       "    <tr style=\"text-align: right;\">\n",
       "      <th></th>\n",
       "      <th>AGE</th>\n",
       "      <th>NUM_OF_BASKETS</th>\n",
       "      <th>RACE_LE</th>\n",
       "      <th>GENDER_LE</th>\n",
       "      <th>BODY_SIZE_LE</th>\n",
       "      <th>WITH_KIDS_LE</th>\n",
       "      <th>KIDS_CATEGORY_LE</th>\n",
       "      <th>BASKET_SIZE_LE</th>\n",
       "      <th>BASKET_COLOUR_LE</th>\n",
       "      <th>ATTIRE_LE</th>\n",
       "      <th>SHIRT_COLOUR_LE</th>\n",
       "      <th>SHIRT_TYPE_LE</th>\n",
       "      <th>PANTS_COLOUR_LE</th>\n",
       "      <th>PANTS_TYPE_LE</th>\n",
       "      <th>WASH_ITEM_LE</th>\n",
       "      <th>WASHER_NO_LE</th>\n",
       "      <th>DRYER_NO_LE</th>\n",
       "      <th>SPECTACLES_LE</th>\n",
       "      <th>DAY_LE</th>\n",
       "      <th>DAY_TYPE_LE</th>\n",
       "    </tr>\n",
       "  </thead>\n",
       "  <tbody>\n",
       "    <tr>\n",
       "      <th>0</th>\n",
       "      <td>28.0</td>\n",
       "      <td>1.0</td>\n",
       "      <td>3</td>\n",
       "      <td>1</td>\n",
       "      <td>1</td>\n",
       "      <td>1</td>\n",
       "      <td>4</td>\n",
       "      <td>0</td>\n",
       "      <td>8</td>\n",
       "      <td>0</td>\n",
       "      <td>2</td>\n",
       "      <td>1</td>\n",
       "      <td>0</td>\n",
       "      <td>1</td>\n",
       "      <td>1</td>\n",
       "      <td>0</td>\n",
       "      <td>3</td>\n",
       "      <td>0</td>\n",
       "      <td>1</td>\n",
       "      <td>0</td>\n",
       "    </tr>\n",
       "    <tr>\n",
       "      <th>1</th>\n",
       "      <td>32.0</td>\n",
       "      <td>3.0</td>\n",
       "      <td>3</td>\n",
       "      <td>1</td>\n",
       "      <td>2</td>\n",
       "      <td>0</td>\n",
       "      <td>1</td>\n",
       "      <td>0</td>\n",
       "      <td>9</td>\n",
       "      <td>0</td>\n",
       "      <td>10</td>\n",
       "      <td>1</td>\n",
       "      <td>2</td>\n",
       "      <td>0</td>\n",
       "      <td>1</td>\n",
       "      <td>3</td>\n",
       "      <td>2</td>\n",
       "      <td>0</td>\n",
       "      <td>1</td>\n",
       "      <td>0</td>\n",
       "    </tr>\n",
       "    <tr>\n",
       "      <th>2</th>\n",
       "      <td>30.0</td>\n",
       "      <td>1.0</td>\n",
       "      <td>3</td>\n",
       "      <td>0</td>\n",
       "      <td>1</td>\n",
       "      <td>0</td>\n",
       "      <td>1</td>\n",
       "      <td>0</td>\n",
       "      <td>1</td>\n",
       "      <td>0</td>\n",
       "      <td>9</td>\n",
       "      <td>1</td>\n",
       "      <td>0</td>\n",
       "      <td>0</td>\n",
       "      <td>1</td>\n",
       "      <td>1</td>\n",
       "      <td>3</td>\n",
       "      <td>0</td>\n",
       "      <td>1</td>\n",
       "      <td>0</td>\n",
       "    </tr>\n",
       "    <tr>\n",
       "      <th>3</th>\n",
       "      <td>51.0</td>\n",
       "      <td>1.0</td>\n",
       "      <td>2</td>\n",
       "      <td>1</td>\n",
       "      <td>2</td>\n",
       "      <td>0</td>\n",
       "      <td>1</td>\n",
       "      <td>0</td>\n",
       "      <td>0</td>\n",
       "      <td>0</td>\n",
       "      <td>0</td>\n",
       "      <td>1</td>\n",
       "      <td>13</td>\n",
       "      <td>1</td>\n",
       "      <td>1</td>\n",
       "      <td>2</td>\n",
       "      <td>2</td>\n",
       "      <td>0</td>\n",
       "      <td>1</td>\n",
       "      <td>0</td>\n",
       "    </tr>\n",
       "    <tr>\n",
       "      <th>4</th>\n",
       "      <td>34.0</td>\n",
       "      <td>3.0</td>\n",
       "      <td>2</td>\n",
       "      <td>1</td>\n",
       "      <td>1</td>\n",
       "      <td>0</td>\n",
       "      <td>1</td>\n",
       "      <td>0</td>\n",
       "      <td>1</td>\n",
       "      <td>0</td>\n",
       "      <td>2</td>\n",
       "      <td>1</td>\n",
       "      <td>12</td>\n",
       "      <td>0</td>\n",
       "      <td>1</td>\n",
       "      <td>0</td>\n",
       "      <td>2</td>\n",
       "      <td>0</td>\n",
       "      <td>1</td>\n",
       "      <td>0</td>\n",
       "    </tr>\n",
       "  </tbody>\n",
       "</table>\n",
       "</div>"
      ],
      "text/plain": [
       "    AGE  NUM_OF_BASKETS  RACE_LE  GENDER_LE  BODY_SIZE_LE  WITH_KIDS_LE  \\\n",
       "0  28.0             1.0        3          1             1             1   \n",
       "1  32.0             3.0        3          1             2             0   \n",
       "2  30.0             1.0        3          0             1             0   \n",
       "3  51.0             1.0        2          1             2             0   \n",
       "4  34.0             3.0        2          1             1             0   \n",
       "\n",
       "   KIDS_CATEGORY_LE  BASKET_SIZE_LE  BASKET_COLOUR_LE  ATTIRE_LE  \\\n",
       "0                 4               0                 8          0   \n",
       "1                 1               0                 9          0   \n",
       "2                 1               0                 1          0   \n",
       "3                 1               0                 0          0   \n",
       "4                 1               0                 1          0   \n",
       "\n",
       "   SHIRT_COLOUR_LE  SHIRT_TYPE_LE  PANTS_COLOUR_LE  PANTS_TYPE_LE  \\\n",
       "0                2              1                0              1   \n",
       "1               10              1                2              0   \n",
       "2                9              1                0              0   \n",
       "3                0              1               13              1   \n",
       "4                2              1               12              0   \n",
       "\n",
       "   WASH_ITEM_LE  WASHER_NO_LE  DRYER_NO_LE  SPECTACLES_LE  DAY_LE  DAY_TYPE_LE  \n",
       "0             1             0            3              0       1            0  \n",
       "1             1             3            2              0       1            0  \n",
       "2             1             1            3              0       1            0  \n",
       "3             1             2            2              0       1            0  \n",
       "4             1             0            2              0       1            0  "
      ]
     },
     "execution_count": 35,
     "metadata": {},
     "output_type": "execute_result"
    }
   ],
   "source": [
    "df_laundry = df1.copy()\n",
    "df_le = df_laundry.copy()\n",
    "df_le['RACE_LE'] = LabelEncoder().fit_transform(df_laundry.RACE)\n",
    "df_le['GENDER_LE'] = LabelEncoder().fit_transform(df_laundry.GENDER)\n",
    "df_le['BODY_SIZE_LE'] = LabelEncoder().fit_transform(df_laundry.BODY_SIZE)\n",
    "df_le['WITH_KIDS_LE'] = LabelEncoder().fit_transform(df_laundry.WITH_KIDS)\n",
    "df_le['KIDS_CATEGORY_LE'] = LabelEncoder().fit_transform(df_laundry.KIDS_CATEGORY)\n",
    "df_le['BASKET_SIZE_LE'] = LabelEncoder().fit_transform(df_laundry.BASKET_SIZE)\n",
    "df_le['BASKET_COLOUR_LE'] = LabelEncoder().fit_transform(df_laundry.BASKET_COLOUR)\n",
    "df_le['ATTIRE_LE'] = LabelEncoder().fit_transform(df_laundry.ATTIRE)\n",
    "df_le['SHIRT_COLOUR_LE'] = LabelEncoder().fit_transform(df_laundry.SHIRT_COLOUR)\n",
    "df_le['SHIRT_TYPE_LE'] = LabelEncoder().fit_transform(df_laundry.SHIRT_TYPE)\n",
    "df_le['PANTS_COLOUR_LE'] = LabelEncoder().fit_transform(df_laundry.PANTS_COLOUR)\n",
    "df_le['PANTS_TYPE_LE'] = LabelEncoder().fit_transform(df_laundry.PANTS_TYPE)\n",
    "df_le['WASH_ITEM_LE'] = LabelEncoder().fit_transform(df_laundry.WASH_ITEM)\n",
    "df_le['WASHER_NO_LE'] = LabelEncoder().fit_transform(df_laundry.WASHER_NO)\n",
    "df_le['DRYER_NO_LE'] = LabelEncoder().fit_transform(df_laundry.DRYER_NO)\n",
    "df_le['SPECTACLES_LE'] = LabelEncoder().fit_transform(df_laundry.SPECTACLES)\n",
    "df_le['DAY_LE'] = LabelEncoder().fit_transform(df_laundry.DAY)\n",
    "df_le['DAY_TYPE_LE'] = LabelEncoder().fit_transform(df_laundry.DAY_TYPE)\n",
    "\n",
    "df_le = df_le.drop(['RACE', 'GENDER', 'BODY_SIZE', 'WITH_KIDS', 'KIDS_CATEGORY', 'BASKET_SIZE', 'BASKET_COLOUR', 'ATTIRE'\n",
    "            , 'SHIRT_COLOUR', 'SHIRT_TYPE', 'PANTS_COLOUR', 'PANTS_TYPE', 'WASH_ITEM', 'WASHER_NO'\n",
    "            , 'DRYER_NO', 'SPECTACLES', 'DAY', 'DAY_TYPE','DATE','TIME','DATE_TIME', 'LONGITUDE', 'LATITUDE'], axis=1)\n",
    "df_le.head()"
   ]
  },
  {
   "cell_type": "code",
   "execution_count": 36,
   "id": "a844afc1",
   "metadata": {},
   "outputs": [
    {
     "data": {
      "text/plain": [
       "AGE                 0\n",
       "NUM_OF_BASKETS      0\n",
       "RACE_LE             0\n",
       "GENDER_LE           0\n",
       "BODY_SIZE_LE        0\n",
       "WITH_KIDS_LE        0\n",
       "KIDS_CATEGORY_LE    0\n",
       "BASKET_SIZE_LE      0\n",
       "BASKET_COLOUR_LE    0\n",
       "ATTIRE_LE           0\n",
       "SHIRT_COLOUR_LE     0\n",
       "SHIRT_TYPE_LE       0\n",
       "PANTS_COLOUR_LE     0\n",
       "PANTS_TYPE_LE       0\n",
       "WASH_ITEM_LE        0\n",
       "WASHER_NO_LE        0\n",
       "DRYER_NO_LE         0\n",
       "SPECTACLES_LE       0\n",
       "DAY_LE              0\n",
       "DAY_TYPE_LE         0\n",
       "dtype: int64"
      ]
     },
     "execution_count": 36,
     "metadata": {},
     "output_type": "execute_result"
    }
   ],
   "source": [
    "df_le.isna().sum()"
   ]
  },
  {
   "cell_type": "markdown",
   "id": "a4e92e7a",
   "metadata": {},
   "source": [
    "# One Hot Encoding"
   ]
  },
  {
   "cell_type": "code",
   "execution_count": 37,
   "id": "399aacdb",
   "metadata": {},
   "outputs": [
    {
     "data": {
      "text/html": [
       "<div>\n",
       "<style scoped>\n",
       "    .dataframe tbody tr th:only-of-type {\n",
       "        vertical-align: middle;\n",
       "    }\n",
       "\n",
       "    .dataframe tbody tr th {\n",
       "        vertical-align: top;\n",
       "    }\n",
       "\n",
       "    .dataframe thead th {\n",
       "        text-align: right;\n",
       "    }\n",
       "</style>\n",
       "<table border=\"1\" class=\"dataframe\">\n",
       "  <thead>\n",
       "    <tr style=\"text-align: right;\">\n",
       "      <th></th>\n",
       "      <th>AGE</th>\n",
       "      <th>NUM_OF_BASKETS</th>\n",
       "      <th>BASKET_SIZE_big</th>\n",
       "      <th>BASKET_SIZE_small</th>\n",
       "      <th>DAY_Friday</th>\n",
       "      <th>DAY_Monday</th>\n",
       "      <th>DAY_Saturday</th>\n",
       "      <th>DAY_Sunday</th>\n",
       "      <th>DAY_Thursday</th>\n",
       "      <th>DAY_Tuesday</th>\n",
       "      <th>...</th>\n",
       "      <th>SHIRT_COLOUR_pink</th>\n",
       "      <th>SHIRT_COLOUR_purple</th>\n",
       "      <th>SHIRT_COLOUR_red</th>\n",
       "      <th>SHIRT_COLOUR_white</th>\n",
       "      <th>SHIRT_COLOUR_yellow</th>\n",
       "      <th>KIDS_CATEGORY_baby</th>\n",
       "      <th>KIDS_CATEGORY_no kids</th>\n",
       "      <th>KIDS_CATEGORY_toddler</th>\n",
       "      <th>KIDS_CATEGORY_toddler</th>\n",
       "      <th>KIDS_CATEGORY_young</th>\n",
       "    </tr>\n",
       "  </thead>\n",
       "  <tbody>\n",
       "    <tr>\n",
       "      <th>0</th>\n",
       "      <td>28.0</td>\n",
       "      <td>1.0</td>\n",
       "      <td>1</td>\n",
       "      <td>0</td>\n",
       "      <td>0</td>\n",
       "      <td>1</td>\n",
       "      <td>0</td>\n",
       "      <td>0</td>\n",
       "      <td>0</td>\n",
       "      <td>0</td>\n",
       "      <td>...</td>\n",
       "      <td>0</td>\n",
       "      <td>0</td>\n",
       "      <td>0</td>\n",
       "      <td>0</td>\n",
       "      <td>0</td>\n",
       "      <td>0</td>\n",
       "      <td>0</td>\n",
       "      <td>0</td>\n",
       "      <td>0</td>\n",
       "      <td>1</td>\n",
       "    </tr>\n",
       "    <tr>\n",
       "      <th>1</th>\n",
       "      <td>32.0</td>\n",
       "      <td>3.0</td>\n",
       "      <td>1</td>\n",
       "      <td>0</td>\n",
       "      <td>0</td>\n",
       "      <td>1</td>\n",
       "      <td>0</td>\n",
       "      <td>0</td>\n",
       "      <td>0</td>\n",
       "      <td>0</td>\n",
       "      <td>...</td>\n",
       "      <td>0</td>\n",
       "      <td>0</td>\n",
       "      <td>0</td>\n",
       "      <td>1</td>\n",
       "      <td>0</td>\n",
       "      <td>0</td>\n",
       "      <td>1</td>\n",
       "      <td>0</td>\n",
       "      <td>0</td>\n",
       "      <td>0</td>\n",
       "    </tr>\n",
       "    <tr>\n",
       "      <th>2</th>\n",
       "      <td>30.0</td>\n",
       "      <td>1.0</td>\n",
       "      <td>1</td>\n",
       "      <td>0</td>\n",
       "      <td>0</td>\n",
       "      <td>1</td>\n",
       "      <td>0</td>\n",
       "      <td>0</td>\n",
       "      <td>0</td>\n",
       "      <td>0</td>\n",
       "      <td>...</td>\n",
       "      <td>0</td>\n",
       "      <td>0</td>\n",
       "      <td>1</td>\n",
       "      <td>0</td>\n",
       "      <td>0</td>\n",
       "      <td>0</td>\n",
       "      <td>1</td>\n",
       "      <td>0</td>\n",
       "      <td>0</td>\n",
       "      <td>0</td>\n",
       "    </tr>\n",
       "    <tr>\n",
       "      <th>3</th>\n",
       "      <td>51.0</td>\n",
       "      <td>1.0</td>\n",
       "      <td>1</td>\n",
       "      <td>0</td>\n",
       "      <td>0</td>\n",
       "      <td>1</td>\n",
       "      <td>0</td>\n",
       "      <td>0</td>\n",
       "      <td>0</td>\n",
       "      <td>0</td>\n",
       "      <td>...</td>\n",
       "      <td>0</td>\n",
       "      <td>0</td>\n",
       "      <td>0</td>\n",
       "      <td>0</td>\n",
       "      <td>0</td>\n",
       "      <td>0</td>\n",
       "      <td>1</td>\n",
       "      <td>0</td>\n",
       "      <td>0</td>\n",
       "      <td>0</td>\n",
       "    </tr>\n",
       "    <tr>\n",
       "      <th>4</th>\n",
       "      <td>34.0</td>\n",
       "      <td>3.0</td>\n",
       "      <td>1</td>\n",
       "      <td>0</td>\n",
       "      <td>0</td>\n",
       "      <td>1</td>\n",
       "      <td>0</td>\n",
       "      <td>0</td>\n",
       "      <td>0</td>\n",
       "      <td>0</td>\n",
       "      <td>...</td>\n",
       "      <td>0</td>\n",
       "      <td>0</td>\n",
       "      <td>0</td>\n",
       "      <td>0</td>\n",
       "      <td>0</td>\n",
       "      <td>0</td>\n",
       "      <td>1</td>\n",
       "      <td>0</td>\n",
       "      <td>0</td>\n",
       "      <td>0</td>\n",
       "    </tr>\n",
       "    <tr>\n",
       "      <th>...</th>\n",
       "      <td>...</td>\n",
       "      <td>...</td>\n",
       "      <td>...</td>\n",
       "      <td>...</td>\n",
       "      <td>...</td>\n",
       "      <td>...</td>\n",
       "      <td>...</td>\n",
       "      <td>...</td>\n",
       "      <td>...</td>\n",
       "      <td>...</td>\n",
       "      <td>...</td>\n",
       "      <td>...</td>\n",
       "      <td>...</td>\n",
       "      <td>...</td>\n",
       "      <td>...</td>\n",
       "      <td>...</td>\n",
       "      <td>...</td>\n",
       "      <td>...</td>\n",
       "      <td>...</td>\n",
       "      <td>...</td>\n",
       "      <td>...</td>\n",
       "    </tr>\n",
       "    <tr>\n",
       "      <th>3995</th>\n",
       "      <td>30.0</td>\n",
       "      <td>2.0</td>\n",
       "      <td>0</td>\n",
       "      <td>1</td>\n",
       "      <td>0</td>\n",
       "      <td>0</td>\n",
       "      <td>0</td>\n",
       "      <td>1</td>\n",
       "      <td>0</td>\n",
       "      <td>0</td>\n",
       "      <td>...</td>\n",
       "      <td>0</td>\n",
       "      <td>1</td>\n",
       "      <td>0</td>\n",
       "      <td>0</td>\n",
       "      <td>0</td>\n",
       "      <td>0</td>\n",
       "      <td>1</td>\n",
       "      <td>0</td>\n",
       "      <td>0</td>\n",
       "      <td>0</td>\n",
       "    </tr>\n",
       "    <tr>\n",
       "      <th>3996</th>\n",
       "      <td>24.0</td>\n",
       "      <td>3.0</td>\n",
       "      <td>0</td>\n",
       "      <td>1</td>\n",
       "      <td>0</td>\n",
       "      <td>0</td>\n",
       "      <td>1</td>\n",
       "      <td>0</td>\n",
       "      <td>0</td>\n",
       "      <td>0</td>\n",
       "      <td>...</td>\n",
       "      <td>0</td>\n",
       "      <td>0</td>\n",
       "      <td>0</td>\n",
       "      <td>0</td>\n",
       "      <td>0</td>\n",
       "      <td>1</td>\n",
       "      <td>0</td>\n",
       "      <td>0</td>\n",
       "      <td>0</td>\n",
       "      <td>0</td>\n",
       "    </tr>\n",
       "    <tr>\n",
       "      <th>3997</th>\n",
       "      <td>27.0</td>\n",
       "      <td>1.0</td>\n",
       "      <td>0</td>\n",
       "      <td>1</td>\n",
       "      <td>0</td>\n",
       "      <td>1</td>\n",
       "      <td>0</td>\n",
       "      <td>0</td>\n",
       "      <td>0</td>\n",
       "      <td>0</td>\n",
       "      <td>...</td>\n",
       "      <td>0</td>\n",
       "      <td>0</td>\n",
       "      <td>0</td>\n",
       "      <td>1</td>\n",
       "      <td>0</td>\n",
       "      <td>0</td>\n",
       "      <td>1</td>\n",
       "      <td>0</td>\n",
       "      <td>0</td>\n",
       "      <td>0</td>\n",
       "    </tr>\n",
       "    <tr>\n",
       "      <th>3998</th>\n",
       "      <td>18.0</td>\n",
       "      <td>1.0</td>\n",
       "      <td>1</td>\n",
       "      <td>0</td>\n",
       "      <td>0</td>\n",
       "      <td>0</td>\n",
       "      <td>0</td>\n",
       "      <td>0</td>\n",
       "      <td>0</td>\n",
       "      <td>0</td>\n",
       "      <td>...</td>\n",
       "      <td>0</td>\n",
       "      <td>0</td>\n",
       "      <td>0</td>\n",
       "      <td>0</td>\n",
       "      <td>0</td>\n",
       "      <td>1</td>\n",
       "      <td>0</td>\n",
       "      <td>0</td>\n",
       "      <td>0</td>\n",
       "      <td>0</td>\n",
       "    </tr>\n",
       "    <tr>\n",
       "      <th>3999</th>\n",
       "      <td>23.0</td>\n",
       "      <td>1.0</td>\n",
       "      <td>1</td>\n",
       "      <td>0</td>\n",
       "      <td>0</td>\n",
       "      <td>0</td>\n",
       "      <td>0</td>\n",
       "      <td>0</td>\n",
       "      <td>0</td>\n",
       "      <td>1</td>\n",
       "      <td>...</td>\n",
       "      <td>0</td>\n",
       "      <td>0</td>\n",
       "      <td>0</td>\n",
       "      <td>0</td>\n",
       "      <td>0</td>\n",
       "      <td>0</td>\n",
       "      <td>0</td>\n",
       "      <td>0</td>\n",
       "      <td>0</td>\n",
       "      <td>1</td>\n",
       "    </tr>\n",
       "  </tbody>\n",
       "</table>\n",
       "<p>4000 rows × 57 columns</p>\n",
       "</div>"
      ],
      "text/plain": [
       "       AGE  NUM_OF_BASKETS  BASKET_SIZE_big  BASKET_SIZE_small  DAY_Friday  \\\n",
       "0     28.0             1.0                1                  0           0   \n",
       "1     32.0             3.0                1                  0           0   \n",
       "2     30.0             1.0                1                  0           0   \n",
       "3     51.0             1.0                1                  0           0   \n",
       "4     34.0             3.0                1                  0           0   \n",
       "...    ...             ...              ...                ...         ...   \n",
       "3995  30.0             2.0                0                  1           0   \n",
       "3996  24.0             3.0                0                  1           0   \n",
       "3997  27.0             1.0                0                  1           0   \n",
       "3998  18.0             1.0                1                  0           0   \n",
       "3999  23.0             1.0                1                  0           0   \n",
       "\n",
       "      DAY_Monday  DAY_Saturday  DAY_Sunday  DAY_Thursday  DAY_Tuesday  ...  \\\n",
       "0              1             0           0             0            0  ...   \n",
       "1              1             0           0             0            0  ...   \n",
       "2              1             0           0             0            0  ...   \n",
       "3              1             0           0             0            0  ...   \n",
       "4              1             0           0             0            0  ...   \n",
       "...          ...           ...         ...           ...          ...  ...   \n",
       "3995           0             0           1             0            0  ...   \n",
       "3996           0             1           0             0            0  ...   \n",
       "3997           1             0           0             0            0  ...   \n",
       "3998           0             0           0             0            0  ...   \n",
       "3999           0             0           0             0            1  ...   \n",
       "\n",
       "      SHIRT_COLOUR_pink  SHIRT_COLOUR_purple  SHIRT_COLOUR_red  \\\n",
       "0                     0                    0                 0   \n",
       "1                     0                    0                 0   \n",
       "2                     0                    0                 1   \n",
       "3                     0                    0                 0   \n",
       "4                     0                    0                 0   \n",
       "...                 ...                  ...               ...   \n",
       "3995                  0                    1                 0   \n",
       "3996                  0                    0                 0   \n",
       "3997                  0                    0                 0   \n",
       "3998                  0                    0                 0   \n",
       "3999                  0                    0                 0   \n",
       "\n",
       "      SHIRT_COLOUR_white  SHIRT_COLOUR_yellow  KIDS_CATEGORY_baby  \\\n",
       "0                      0                    0                   0   \n",
       "1                      1                    0                   0   \n",
       "2                      0                    0                   0   \n",
       "3                      0                    0                   0   \n",
       "4                      0                    0                   0   \n",
       "...                  ...                  ...                 ...   \n",
       "3995                   0                    0                   0   \n",
       "3996                   0                    0                   1   \n",
       "3997                   1                    0                   0   \n",
       "3998                   0                    0                   1   \n",
       "3999                   0                    0                   0   \n",
       "\n",
       "      KIDS_CATEGORY_no kids  KIDS_CATEGORY_toddler  KIDS_CATEGORY_toddler   \\\n",
       "0                         0                      0                       0   \n",
       "1                         1                      0                       0   \n",
       "2                         1                      0                       0   \n",
       "3                         1                      0                       0   \n",
       "4                         1                      0                       0   \n",
       "...                     ...                    ...                     ...   \n",
       "3995                      1                      0                       0   \n",
       "3996                      0                      0                       0   \n",
       "3997                      1                      0                       0   \n",
       "3998                      0                      0                       0   \n",
       "3999                      0                      0                       0   \n",
       "\n",
       "      KIDS_CATEGORY_young  \n",
       "0                       1  \n",
       "1                       0  \n",
       "2                       0  \n",
       "3                       0  \n",
       "4                       0  \n",
       "...                   ...  \n",
       "3995                    0  \n",
       "3996                    0  \n",
       "3997                    0  \n",
       "3998                    0  \n",
       "3999                    1  \n",
       "\n",
       "[4000 rows x 57 columns]"
      ]
     },
     "execution_count": 37,
     "metadata": {},
     "output_type": "execute_result"
    }
   ],
   "source": [
    "df_oneHot = pd.get_dummies(df1, prefix=['BASKET_SIZE'\n",
    "                                        ,'DAY','DRYER_NO','PANTS_COLOUR'\n",
    "                                        ,'BASKET_COLOUR','SHIRT_COLOUR'\n",
    "                                        ,'KIDS_CATEGORY']\n",
    "                           , columns=['BASKET_SIZE'\n",
    "                                      ,'DAY','DRYER_NO','PANTS_COLOUR'\n",
    "                                      ,'BASKET_COLOUR','SHIRT_COLOUR'\n",
    "                                      ,'KIDS_CATEGORY'])\n",
    "df_T5= df_oneHot.drop(['DATE','TIME','RACE','GENDER','BODY_SIZE','WITH_KIDS'\n",
    "                       ,'ATTIRE','SHIRT_TYPE','PANTS_TYPE','WASH_ITEM'\n",
    "                       ,'WASHER_NO','SPECTACLES','LATITUDE','LONGITUDE'\n",
    "                       ,'DATE_TIME','DAY_TYPE'], axis=1)\n",
    "df_T5"
   ]
  },
  {
   "cell_type": "code",
   "execution_count": null,
   "id": "716a7c29",
   "metadata": {},
   "outputs": [],
   "source": []
  },
  {
   "cell_type": "code",
   "execution_count": 38,
   "id": "ac0b4345",
   "metadata": {},
   "outputs": [],
   "source": [
    "df_T5.to_csv('ohe.csv')"
   ]
  },
  {
   "cell_type": "markdown",
   "id": "464f4db1",
   "metadata": {},
   "source": [
    "## OHE for washer and dryer\n"
   ]
  },
  {
   "cell_type": "code",
   "execution_count": 39,
   "id": "bec87832",
   "metadata": {},
   "outputs": [
    {
     "data": {
      "text/html": [
       "<div>\n",
       "<style scoped>\n",
       "    .dataframe tbody tr th:only-of-type {\n",
       "        vertical-align: middle;\n",
       "    }\n",
       "\n",
       "    .dataframe tbody tr th {\n",
       "        vertical-align: top;\n",
       "    }\n",
       "\n",
       "    .dataframe thead th {\n",
       "        text-align: right;\n",
       "    }\n",
       "</style>\n",
       "<table border=\"1\" class=\"dataframe\">\n",
       "  <thead>\n",
       "    <tr style=\"text-align: right;\">\n",
       "      <th></th>\n",
       "      <th>WASHER_NO_3</th>\n",
       "      <th>WASHER_NO_4</th>\n",
       "      <th>WASHER_NO_5</th>\n",
       "      <th>WASHER_NO_6</th>\n",
       "      <th>DRYER_NO_7</th>\n",
       "      <th>DRYER_NO_8</th>\n",
       "      <th>DRYER_NO_9</th>\n",
       "      <th>DRYER_NO_10</th>\n",
       "    </tr>\n",
       "  </thead>\n",
       "  <tbody>\n",
       "    <tr>\n",
       "      <th>0</th>\n",
       "      <td>1</td>\n",
       "      <td>0</td>\n",
       "      <td>0</td>\n",
       "      <td>0</td>\n",
       "      <td>0</td>\n",
       "      <td>0</td>\n",
       "      <td>0</td>\n",
       "      <td>1</td>\n",
       "    </tr>\n",
       "    <tr>\n",
       "      <th>1</th>\n",
       "      <td>0</td>\n",
       "      <td>0</td>\n",
       "      <td>0</td>\n",
       "      <td>1</td>\n",
       "      <td>0</td>\n",
       "      <td>0</td>\n",
       "      <td>1</td>\n",
       "      <td>0</td>\n",
       "    </tr>\n",
       "    <tr>\n",
       "      <th>2</th>\n",
       "      <td>0</td>\n",
       "      <td>1</td>\n",
       "      <td>0</td>\n",
       "      <td>0</td>\n",
       "      <td>0</td>\n",
       "      <td>0</td>\n",
       "      <td>0</td>\n",
       "      <td>1</td>\n",
       "    </tr>\n",
       "    <tr>\n",
       "      <th>3</th>\n",
       "      <td>0</td>\n",
       "      <td>0</td>\n",
       "      <td>1</td>\n",
       "      <td>0</td>\n",
       "      <td>0</td>\n",
       "      <td>0</td>\n",
       "      <td>1</td>\n",
       "      <td>0</td>\n",
       "    </tr>\n",
       "    <tr>\n",
       "      <th>4</th>\n",
       "      <td>1</td>\n",
       "      <td>0</td>\n",
       "      <td>0</td>\n",
       "      <td>0</td>\n",
       "      <td>0</td>\n",
       "      <td>0</td>\n",
       "      <td>1</td>\n",
       "      <td>0</td>\n",
       "    </tr>\n",
       "    <tr>\n",
       "      <th>...</th>\n",
       "      <td>...</td>\n",
       "      <td>...</td>\n",
       "      <td>...</td>\n",
       "      <td>...</td>\n",
       "      <td>...</td>\n",
       "      <td>...</td>\n",
       "      <td>...</td>\n",
       "      <td>...</td>\n",
       "    </tr>\n",
       "    <tr>\n",
       "      <th>3995</th>\n",
       "      <td>0</td>\n",
       "      <td>0</td>\n",
       "      <td>0</td>\n",
       "      <td>1</td>\n",
       "      <td>1</td>\n",
       "      <td>0</td>\n",
       "      <td>0</td>\n",
       "      <td>0</td>\n",
       "    </tr>\n",
       "    <tr>\n",
       "      <th>3996</th>\n",
       "      <td>0</td>\n",
       "      <td>1</td>\n",
       "      <td>0</td>\n",
       "      <td>0</td>\n",
       "      <td>0</td>\n",
       "      <td>0</td>\n",
       "      <td>0</td>\n",
       "      <td>1</td>\n",
       "    </tr>\n",
       "    <tr>\n",
       "      <th>3997</th>\n",
       "      <td>0</td>\n",
       "      <td>1</td>\n",
       "      <td>0</td>\n",
       "      <td>0</td>\n",
       "      <td>0</td>\n",
       "      <td>0</td>\n",
       "      <td>1</td>\n",
       "      <td>0</td>\n",
       "    </tr>\n",
       "    <tr>\n",
       "      <th>3998</th>\n",
       "      <td>0</td>\n",
       "      <td>0</td>\n",
       "      <td>0</td>\n",
       "      <td>1</td>\n",
       "      <td>0</td>\n",
       "      <td>0</td>\n",
       "      <td>0</td>\n",
       "      <td>1</td>\n",
       "    </tr>\n",
       "    <tr>\n",
       "      <th>3999</th>\n",
       "      <td>0</td>\n",
       "      <td>1</td>\n",
       "      <td>0</td>\n",
       "      <td>0</td>\n",
       "      <td>0</td>\n",
       "      <td>0</td>\n",
       "      <td>0</td>\n",
       "      <td>1</td>\n",
       "    </tr>\n",
       "  </tbody>\n",
       "</table>\n",
       "<p>4000 rows × 8 columns</p>\n",
       "</div>"
      ],
      "text/plain": [
       "      WASHER_NO_3  WASHER_NO_4  WASHER_NO_5  WASHER_NO_6  DRYER_NO_7  \\\n",
       "0               1            0            0            0           0   \n",
       "1               0            0            0            1           0   \n",
       "2               0            1            0            0           0   \n",
       "3               0            0            1            0           0   \n",
       "4               1            0            0            0           0   \n",
       "...           ...          ...          ...          ...         ...   \n",
       "3995            0            0            0            1           1   \n",
       "3996            0            1            0            0           0   \n",
       "3997            0            1            0            0           0   \n",
       "3998            0            0            0            1           0   \n",
       "3999            0            1            0            0           0   \n",
       "\n",
       "      DRYER_NO_8  DRYER_NO_9  DRYER_NO_10  \n",
       "0              0           0            1  \n",
       "1              0           1            0  \n",
       "2              0           0            1  \n",
       "3              0           1            0  \n",
       "4              0           1            0  \n",
       "...          ...         ...          ...  \n",
       "3995           0           0            0  \n",
       "3996           0           0            1  \n",
       "3997           0           1            0  \n",
       "3998           0           0            1  \n",
       "3999           0           0            1  \n",
       "\n",
       "[4000 rows x 8 columns]"
      ]
     },
     "execution_count": 39,
     "metadata": {},
     "output_type": "execute_result"
    }
   ],
   "source": [
    "df_corr_ohe = pd.get_dummies(df1, prefix=['WASHER_NO','DRYER_NO']\n",
    "                           , columns=['WASHER_NO','DRYER_NO'])\n",
    "df_corr_ohe= df_corr_ohe.drop(['DATE','TIME','RACE','GENDER','BODY_SIZE','WITH_KIDS'\n",
    "                               ,'ATTIRE','SHIRT_TYPE','PANTS_TYPE','WASH_ITEM'\n",
    "                               ,'SPECTACLES','LATITUDE','LONGITUDE'\n",
    "                               ,'DATE_TIME','DAY_TYPE','AGE','KIDS_CATEGORY','BASKET_SIZE'\n",
    "                               ,'BASKET_COLOUR','SHIRT_COLOUR','PANTS_COLOUR','NUM_OF_BASKETS','DAY'], axis=1)\n",
    "\n",
    "df_corr_ohe"
   ]
  },
  {
   "cell_type": "code",
   "execution_count": 40,
   "id": "588c4374",
   "metadata": {},
   "outputs": [],
   "source": [
    "df2 = df_corr_ohe.copy()\n",
    "\n",
    "df_corr = df2.corr()"
   ]
  },
  {
   "cell_type": "code",
   "execution_count": 41,
   "id": "470b479f",
   "metadata": {},
   "outputs": [
    {
     "data": {
      "image/png": "[encoded data removed]",
      "text/plain": [
       "<Figure size 1440x1440 with 2 Axes>"
      ]
     },
     "metadata": {
      "needs_background": "light"
     },
     "output_type": "display_data"
    }
   ],
   "source": [
    "plt.figure(figsize=(20,20))\n",
    "heatmap = sns.heatmap(df_corr, vmin=-1, vmax=1, annot=True, cmap='BrBG')\n",
    "heatmap.set_title('Correlation Heatmap between washers and dryers', fontdict={'fontsize':18}, pad=12);"
   ]
  },
  {
   "cell_type": "markdown",
   "id": "cae6d0bf",
   "metadata": {},
   "source": [
    "# Feature Selection Methods"
   ]
  },
  {
   "cell_type": "code",
   "execution_count": 42,
   "id": "c308fbe0",
   "metadata": {},
   "outputs": [],
   "source": [
    "from sklearn.ensemble import RandomForestClassifier\n",
    "from boruta import BorutaPy\n",
    "from sklearn.feature_selection import RFECV\n",
    "from sklearn.preprocessing import MinMaxScaler"
   ]
  },
  {
   "cell_type": "markdown",
   "id": "a1a9c4d3",
   "metadata": {},
   "source": [
    "## Boruta\n",
    "### This feature selection method is used in the classification models"
   ]
  },
  {
   "cell_type": "code",
   "execution_count": 43,
   "id": "8a888f07",
   "metadata": {},
   "outputs": [],
   "source": [
    "def ranking(ranks, names, order=1):\n",
    "    minmax = MinMaxScaler()\n",
    "    ranks = minmax.fit_transform(order*np.array([ranks]).T).T[0]\n",
    "    ranks = map(lambda x: round(x,2), ranks)\n",
    "    return dict(zip(names, ranks))"
   ]
  },
  {
   "cell_type": "code",
   "execution_count": 44,
   "id": "9bffec1c",
   "metadata": {},
   "outputs": [
    {
     "name": "stderr",
     "output_type": "stream",
     "text": [
      "C:\\Users\\User\\AppData\\Local\\Temp/ipykernel_2880/1168232517.py:3: FutureWarning: In a future version of pandas all arguments of DataFrame.drop except for the argument 'labels' will be keyword-only\n",
      "  X = df_le.drop(\"BASKET_SIZE_LE\",1)\n"
     ]
    }
   ],
   "source": [
    "#CHANGE X AND Y VALUE\n",
    "y = df_le.BASKET_SIZE_LE\n",
    "X = df_le.drop(\"BASKET_SIZE_LE\",1)\n",
    "colnames = X.columns"
   ]
  },
  {
   "cell_type": "code",
   "execution_count": 45,
   "id": "b5f35205",
   "metadata": {},
   "outputs": [],
   "source": [
    "rf = RandomForestClassifier(n_jobs=-1, class_weight='balanced', max_depth = 5)\n",
    "\n",
    "feat_selector = BorutaPy(rf, n_estimators=\"auto\", random_state = 1)"
   ]
  },
  {
   "cell_type": "code",
   "execution_count": 46,
   "id": "d3d9a649",
   "metadata": {},
   "outputs": [
    {
     "data": {
      "text/plain": [
       "BorutaPy(estimator=RandomForestClassifier(class_weight='balanced', max_depth=5,\n",
       "                                          n_estimators=69, n_jobs=-1,\n",
       "                                          random_state=RandomState(MT19937) at 0x23D7B5ED940),\n",
       "         n_estimators='auto',\n",
       "         random_state=RandomState(MT19937) at 0x23D7B5ED940)"
      ]
     },
     "execution_count": 46,
     "metadata": {},
     "output_type": "execute_result"
    }
   ],
   "source": [
    "feat_selector.fit(X.values, y.values.ravel())"
   ]
  },
  {
   "cell_type": "code",
   "execution_count": 47,
   "id": "0bbba1f4",
   "metadata": {},
   "outputs": [],
   "source": [
    "boruta_score = ranking(list(map(float, feat_selector.ranking_)), colnames, order=-1)\n",
    "boruta_score = pd.DataFrame(list(boruta_score.items()), columns=['Features', 'Score'])\n",
    "boruta_score = boruta_score.sort_values(\"Score\", ascending = False)"
   ]
  },
  {
   "cell_type": "code",
   "execution_count": 48,
   "id": "276400ca",
   "metadata": {},
   "outputs": [
    {
     "name": "stdout",
     "output_type": "stream",
     "text": [
      "---------Top 10----------\n"
     ]
    },
    {
     "data": {
      "text/html": [
       "<div>\n",
       "<style scoped>\n",
       "    .dataframe tbody tr th:only-of-type {\n",
       "        vertical-align: middle;\n",
       "    }\n",
       "\n",
       "    .dataframe tbody tr th {\n",
       "        vertical-align: top;\n",
       "    }\n",
       "\n",
       "    .dataframe thead th {\n",
       "        text-align: right;\n",
       "    }\n",
       "</style>\n",
       "<table border=\"1\" class=\"dataframe\">\n",
       "  <thead>\n",
       "    <tr style=\"text-align: right;\">\n",
       "      <th></th>\n",
       "      <th>Features</th>\n",
       "      <th>Score</th>\n",
       "    </tr>\n",
       "  </thead>\n",
       "  <tbody>\n",
       "    <tr>\n",
       "      <th>0</th>\n",
       "      <td>AGE</td>\n",
       "      <td>1.00</td>\n",
       "    </tr>\n",
       "    <tr>\n",
       "      <th>6</th>\n",
       "      <td>KIDS_CATEGORY_LE</td>\n",
       "      <td>1.00</td>\n",
       "    </tr>\n",
       "    <tr>\n",
       "      <th>11</th>\n",
       "      <td>PANTS_COLOUR_LE</td>\n",
       "      <td>1.00</td>\n",
       "    </tr>\n",
       "    <tr>\n",
       "      <th>8</th>\n",
       "      <td>ATTIRE_LE</td>\n",
       "      <td>1.00</td>\n",
       "    </tr>\n",
       "    <tr>\n",
       "      <th>7</th>\n",
       "      <td>BASKET_COLOUR_LE</td>\n",
       "      <td>1.00</td>\n",
       "    </tr>\n",
       "    <tr>\n",
       "      <th>9</th>\n",
       "      <td>SHIRT_COLOUR_LE</td>\n",
       "      <td>0.93</td>\n",
       "    </tr>\n",
       "    <tr>\n",
       "      <th>16</th>\n",
       "      <td>SPECTACLES_LE</td>\n",
       "      <td>0.86</td>\n",
       "    </tr>\n",
       "    <tr>\n",
       "      <th>5</th>\n",
       "      <td>WITH_KIDS_LE</td>\n",
       "      <td>0.79</td>\n",
       "    </tr>\n",
       "    <tr>\n",
       "      <th>10</th>\n",
       "      <td>SHIRT_TYPE_LE</td>\n",
       "      <td>0.71</td>\n",
       "    </tr>\n",
       "    <tr>\n",
       "      <th>1</th>\n",
       "      <td>NUM_OF_BASKETS</td>\n",
       "      <td>0.64</td>\n",
       "    </tr>\n",
       "  </tbody>\n",
       "</table>\n",
       "</div>"
      ],
      "text/plain": [
       "            Features  Score\n",
       "0                AGE   1.00\n",
       "6   KIDS_CATEGORY_LE   1.00\n",
       "11   PANTS_COLOUR_LE   1.00\n",
       "8          ATTIRE_LE   1.00\n",
       "7   BASKET_COLOUR_LE   1.00\n",
       "9    SHIRT_COLOUR_LE   0.93\n",
       "16     SPECTACLES_LE   0.86\n",
       "5       WITH_KIDS_LE   0.79\n",
       "10     SHIRT_TYPE_LE   0.71\n",
       "1     NUM_OF_BASKETS   0.64"
      ]
     },
     "metadata": {},
     "output_type": "display_data"
    },
    {
     "name": "stdout",
     "output_type": "stream",
     "text": [
      "---------Bottom 10----------\n"
     ]
    },
    {
     "data": {
      "text/html": [
       "<div>\n",
       "<style scoped>\n",
       "    .dataframe tbody tr th:only-of-type {\n",
       "        vertical-align: middle;\n",
       "    }\n",
       "\n",
       "    .dataframe tbody tr th {\n",
       "        vertical-align: top;\n",
       "    }\n",
       "\n",
       "    .dataframe thead th {\n",
       "        text-align: right;\n",
       "    }\n",
       "</style>\n",
       "<table border=\"1\" class=\"dataframe\">\n",
       "  <thead>\n",
       "    <tr style=\"text-align: right;\">\n",
       "      <th></th>\n",
       "      <th>Features</th>\n",
       "      <th>Score</th>\n",
       "    </tr>\n",
       "  </thead>\n",
       "  <tbody>\n",
       "    <tr>\n",
       "      <th>1</th>\n",
       "      <td>NUM_OF_BASKETS</td>\n",
       "      <td>0.64</td>\n",
       "    </tr>\n",
       "    <tr>\n",
       "      <th>17</th>\n",
       "      <td>DAY_LE</td>\n",
       "      <td>0.57</td>\n",
       "    </tr>\n",
       "    <tr>\n",
       "      <th>2</th>\n",
       "      <td>RACE_LE</td>\n",
       "      <td>0.50</td>\n",
       "    </tr>\n",
       "    <tr>\n",
       "      <th>4</th>\n",
       "      <td>BODY_SIZE_LE</td>\n",
       "      <td>0.43</td>\n",
       "    </tr>\n",
       "    <tr>\n",
       "      <th>12</th>\n",
       "      <td>PANTS_TYPE_LE</td>\n",
       "      <td>0.36</td>\n",
       "    </tr>\n",
       "    <tr>\n",
       "      <th>14</th>\n",
       "      <td>WASHER_NO_LE</td>\n",
       "      <td>0.29</td>\n",
       "    </tr>\n",
       "    <tr>\n",
       "      <th>15</th>\n",
       "      <td>DRYER_NO_LE</td>\n",
       "      <td>0.21</td>\n",
       "    </tr>\n",
       "    <tr>\n",
       "      <th>13</th>\n",
       "      <td>WASH_ITEM_LE</td>\n",
       "      <td>0.14</td>\n",
       "    </tr>\n",
       "    <tr>\n",
       "      <th>18</th>\n",
       "      <td>DAY_TYPE_LE</td>\n",
       "      <td>0.07</td>\n",
       "    </tr>\n",
       "    <tr>\n",
       "      <th>3</th>\n",
       "      <td>GENDER_LE</td>\n",
       "      <td>0.00</td>\n",
       "    </tr>\n",
       "  </tbody>\n",
       "</table>\n",
       "</div>"
      ],
      "text/plain": [
       "          Features  Score\n",
       "1   NUM_OF_BASKETS   0.64\n",
       "17          DAY_LE   0.57\n",
       "2          RACE_LE   0.50\n",
       "4     BODY_SIZE_LE   0.43\n",
       "12   PANTS_TYPE_LE   0.36\n",
       "14    WASHER_NO_LE   0.29\n",
       "15     DRYER_NO_LE   0.21\n",
       "13    WASH_ITEM_LE   0.14\n",
       "18     DAY_TYPE_LE   0.07\n",
       "3        GENDER_LE   0.00"
      ]
     },
     "metadata": {},
     "output_type": "display_data"
    }
   ],
   "source": [
    "print('---------Top 10----------')\n",
    "display(boruta_score.head(10))\n",
    "\n",
    "print('---------Bottom 10----------')\n",
    "display(boruta_score.tail(10))"
   ]
  },
  {
   "cell_type": "code",
   "execution_count": 49,
   "id": "6ab77e1d",
   "metadata": {},
   "outputs": [
    {
     "data": {
      "text/plain": [
       "Text(0.5, 1.0, 'Boruta Top 20 Features')"
      ]
     },
     "execution_count": 49,
     "metadata": {},
     "output_type": "execute_result"
    },
    {
     "data": {
      "image/png": "[encoded data removed]",
      "text/plain": [
       "<Figure size 2016x1008 with 1 Axes>"
      ]
     },
     "metadata": {
      "needs_background": "light"
     },
     "output_type": "display_data"
    }
   ],
   "source": [
    "sns_boruta_plot = sns.catplot(x=\"Score\", y=\"Features\", data = boruta_score[0:10], kind = \"bar\", \n",
    "               height=14, aspect=2, palette='crest')\n",
    "plt.title(\"Boruta Top 20 Features\")"
   ]
  },
  {
   "cell_type": "code",
   "execution_count": 50,
   "id": "4aa82d7b",
   "metadata": {},
   "outputs": [],
   "source": [
    "boruta_score.to_csv('boruta.csv')"
   ]
  },
  {
   "cell_type": "markdown",
   "id": "f0a63e78",
   "metadata": {},
   "source": [
    "## RFE"
   ]
  },
  {
   "cell_type": "code",
   "execution_count": 51,
   "id": "86444202",
   "metadata": {},
   "outputs": [
    {
     "name": "stderr",
     "output_type": "stream",
     "text": [
      "C:\\Users\\User\\AppData\\Local\\Temp/ipykernel_2880/1536354082.py:3: FutureWarning: In a future version of pandas all arguments of DataFrame.drop except for the argument 'labels' will be keyword-only\n",
      "  X = df_le.drop(\"NUM_OF_BASKETS\",1)\n"
     ]
    }
   ],
   "source": [
    "#CHANGE X AND Y VALUE for Logistic Regression\n",
    "y = df_le.NUM_OF_BASKETS\n",
    "X = df_le.drop(\"NUM_OF_BASKETS\",1)\n",
    "colnames = X.columns"
   ]
  },
  {
   "cell_type": "code",
   "execution_count": 52,
   "id": "8cc2ff74",
   "metadata": {},
   "outputs": [],
   "source": [
    "rf = RandomForestClassifier(n_jobs=-1, class_weight='balanced', max_depth = 5, n_estimators = 100)\n",
    "rf.fit(X,y)\n",
    "rfe = RFECV(rf, min_features_to_select = 1, cv = 3)"
   ]
  },
  {
   "cell_type": "code",
   "execution_count": 53,
   "id": "040481fd",
   "metadata": {},
   "outputs": [
    {
     "name": "stderr",
     "output_type": "stream",
     "text": [
      "C:\\Users\\User\\anaconda3\\lib\\site-packages\\sklearn\\base.py:445: UserWarning: X does not have valid feature names, but RFECV was fitted with feature names\n",
      "  warnings.warn(\n"
     ]
    },
    {
     "data": {
      "text/plain": [
       "RFECV(cv=3,\n",
       "      estimator=RandomForestClassifier(class_weight='balanced', max_depth=5,\n",
       "                                       n_jobs=-1))"
      ]
     },
     "execution_count": 53,
     "metadata": {},
     "output_type": "execute_result"
    }
   ],
   "source": [
    "rfe.fit(X, y)"
   ]
  },
  {
   "cell_type": "code",
   "execution_count": 54,
   "id": "e822453f",
   "metadata": {},
   "outputs": [],
   "source": [
    "rfe_score = ranking(list(map(float, rfe.ranking_)), colnames, order=-1)\n",
    "rfe_score = pd.DataFrame(list(rfe_score.items()), columns=['Features', 'Score'])\n",
    "rfe_score = rfe_score.sort_values(\"Score\", ascending = False)"
   ]
  },
  {
   "cell_type": "code",
   "execution_count": 55,
   "id": "31f0439b",
   "metadata": {},
   "outputs": [
    {
     "name": "stdout",
     "output_type": "stream",
     "text": [
      "---------Top 10----------\n"
     ]
    },
    {
     "data": {
      "text/html": [
       "<div>\n",
       "<style scoped>\n",
       "    .dataframe tbody tr th:only-of-type {\n",
       "        vertical-align: middle;\n",
       "    }\n",
       "\n",
       "    .dataframe tbody tr th {\n",
       "        vertical-align: top;\n",
       "    }\n",
       "\n",
       "    .dataframe thead th {\n",
       "        text-align: right;\n",
       "    }\n",
       "</style>\n",
       "<table border=\"1\" class=\"dataframe\">\n",
       "  <thead>\n",
       "    <tr style=\"text-align: right;\">\n",
       "      <th></th>\n",
       "      <th>Features</th>\n",
       "      <th>Score</th>\n",
       "    </tr>\n",
       "  </thead>\n",
       "  <tbody>\n",
       "    <tr>\n",
       "      <th>0</th>\n",
       "      <td>AGE</td>\n",
       "      <td>1.0</td>\n",
       "    </tr>\n",
       "    <tr>\n",
       "      <th>7</th>\n",
       "      <td>BASKET_COLOUR_LE</td>\n",
       "      <td>1.0</td>\n",
       "    </tr>\n",
       "    <tr>\n",
       "      <th>17</th>\n",
       "      <td>DAY_LE</td>\n",
       "      <td>1.0</td>\n",
       "    </tr>\n",
       "    <tr>\n",
       "      <th>15</th>\n",
       "      <td>DRYER_NO_LE</td>\n",
       "      <td>1.0</td>\n",
       "    </tr>\n",
       "    <tr>\n",
       "      <th>14</th>\n",
       "      <td>WASHER_NO_LE</td>\n",
       "      <td>1.0</td>\n",
       "    </tr>\n",
       "    <tr>\n",
       "      <th>11</th>\n",
       "      <td>PANTS_COLOUR_LE</td>\n",
       "      <td>1.0</td>\n",
       "    </tr>\n",
       "    <tr>\n",
       "      <th>1</th>\n",
       "      <td>RACE_LE</td>\n",
       "      <td>1.0</td>\n",
       "    </tr>\n",
       "    <tr>\n",
       "      <th>9</th>\n",
       "      <td>SHIRT_COLOUR_LE</td>\n",
       "      <td>1.0</td>\n",
       "    </tr>\n",
       "    <tr>\n",
       "      <th>6</th>\n",
       "      <td>BASKET_SIZE_LE</td>\n",
       "      <td>1.0</td>\n",
       "    </tr>\n",
       "    <tr>\n",
       "      <th>5</th>\n",
       "      <td>KIDS_CATEGORY_LE</td>\n",
       "      <td>1.0</td>\n",
       "    </tr>\n",
       "  </tbody>\n",
       "</table>\n",
       "</div>"
      ],
      "text/plain": [
       "            Features  Score\n",
       "0                AGE    1.0\n",
       "7   BASKET_COLOUR_LE    1.0\n",
       "17            DAY_LE    1.0\n",
       "15       DRYER_NO_LE    1.0\n",
       "14      WASHER_NO_LE    1.0\n",
       "11   PANTS_COLOUR_LE    1.0\n",
       "1            RACE_LE    1.0\n",
       "9    SHIRT_COLOUR_LE    1.0\n",
       "6     BASKET_SIZE_LE    1.0\n",
       "5   KIDS_CATEGORY_LE    1.0"
      ]
     },
     "metadata": {},
     "output_type": "display_data"
    },
    {
     "name": "stdout",
     "output_type": "stream",
     "text": [
      "---------Bottom 10-----------\n"
     ]
    },
    {
     "data": {
      "text/html": [
       "<div>\n",
       "<style scoped>\n",
       "    .dataframe tbody tr th:only-of-type {\n",
       "        vertical-align: middle;\n",
       "    }\n",
       "\n",
       "    .dataframe tbody tr th {\n",
       "        vertical-align: top;\n",
       "    }\n",
       "\n",
       "    .dataframe thead th {\n",
       "        text-align: right;\n",
       "    }\n",
       "</style>\n",
       "<table border=\"1\" class=\"dataframe\">\n",
       "  <thead>\n",
       "    <tr style=\"text-align: right;\">\n",
       "      <th></th>\n",
       "      <th>Features</th>\n",
       "      <th>Score</th>\n",
       "    </tr>\n",
       "  </thead>\n",
       "  <tbody>\n",
       "    <tr>\n",
       "      <th>5</th>\n",
       "      <td>KIDS_CATEGORY_LE</td>\n",
       "      <td>1.00</td>\n",
       "    </tr>\n",
       "    <tr>\n",
       "      <th>16</th>\n",
       "      <td>SPECTACLES_LE</td>\n",
       "      <td>0.89</td>\n",
       "    </tr>\n",
       "    <tr>\n",
       "      <th>8</th>\n",
       "      <td>ATTIRE_LE</td>\n",
       "      <td>0.78</td>\n",
       "    </tr>\n",
       "    <tr>\n",
       "      <th>3</th>\n",
       "      <td>BODY_SIZE_LE</td>\n",
       "      <td>0.67</td>\n",
       "    </tr>\n",
       "    <tr>\n",
       "      <th>2</th>\n",
       "      <td>GENDER_LE</td>\n",
       "      <td>0.56</td>\n",
       "    </tr>\n",
       "    <tr>\n",
       "      <th>12</th>\n",
       "      <td>PANTS_TYPE_LE</td>\n",
       "      <td>0.44</td>\n",
       "    </tr>\n",
       "    <tr>\n",
       "      <th>13</th>\n",
       "      <td>WASH_ITEM_LE</td>\n",
       "      <td>0.33</td>\n",
       "    </tr>\n",
       "    <tr>\n",
       "      <th>10</th>\n",
       "      <td>SHIRT_TYPE_LE</td>\n",
       "      <td>0.22</td>\n",
       "    </tr>\n",
       "    <tr>\n",
       "      <th>4</th>\n",
       "      <td>WITH_KIDS_LE</td>\n",
       "      <td>0.11</td>\n",
       "    </tr>\n",
       "    <tr>\n",
       "      <th>18</th>\n",
       "      <td>DAY_TYPE_LE</td>\n",
       "      <td>0.00</td>\n",
       "    </tr>\n",
       "  </tbody>\n",
       "</table>\n",
       "</div>"
      ],
      "text/plain": [
       "            Features  Score\n",
       "5   KIDS_CATEGORY_LE   1.00\n",
       "16     SPECTACLES_LE   0.89\n",
       "8          ATTIRE_LE   0.78\n",
       "3       BODY_SIZE_LE   0.67\n",
       "2          GENDER_LE   0.56\n",
       "12     PANTS_TYPE_LE   0.44\n",
       "13      WASH_ITEM_LE   0.33\n",
       "10     SHIRT_TYPE_LE   0.22\n",
       "4       WITH_KIDS_LE   0.11\n",
       "18       DAY_TYPE_LE   0.00"
      ]
     },
     "metadata": {},
     "output_type": "display_data"
    }
   ],
   "source": [
    "print('---------Top 10----------')\n",
    "display(rfe_score.head(10))\n",
    "\n",
    "print('---------Bottom 10-----------')\n",
    "display(rfe_score.tail(10))"
   ]
  },
  {
   "cell_type": "code",
   "execution_count": 56,
   "id": "d8549b80",
   "metadata": {},
   "outputs": [
    {
     "data": {
      "text/plain": [
       "Text(0.5, 1.0, 'RFE top 15 Features')"
      ]
     },
     "execution_count": 56,
     "metadata": {},
     "output_type": "execute_result"
    },
    {
     "data": {
      "image/png": "[encoded data removed]",
      "text/plain": [
       "<Figure size 1915.2x1008 with 1 Axes>"
      ]
     },
     "metadata": {
      "needs_background": "light"
     },
     "output_type": "display_data"
    }
   ],
   "source": [
    "sns_rfe_plot = sns.catplot(x=\"Score\", y=\"Features\", data = rfe_score[0:15], kind = \"bar\", \n",
    "               height=14, aspect=1.9, palette='crest')\n",
    "plt.title(\"RFE top 15 Features\")"
   ]
  },
  {
   "cell_type": "code",
   "execution_count": 57,
   "id": "7e8cc820",
   "metadata": {},
   "outputs": [],
   "source": [
    "rfe_score.to_csv('rfe.csv')\n"
   ]
  },
  {
   "cell_type": "markdown",
   "id": "234342b9",
   "metadata": {},
   "source": [
    "# Regression Models"
   ]
  },
  {
   "cell_type": "markdown",
   "id": "d61fb4f4",
   "metadata": {},
   "source": [
    "## Linear Regression"
   ]
  },
  {
   "cell_type": "code",
   "execution_count": 58,
   "id": "2cdeacfc",
   "metadata": {},
   "outputs": [
    {
     "name": "stderr",
     "output_type": "stream",
     "text": [
      "C:\\Users\\User\\AppData\\Local\\Temp/ipykernel_2880/229831941.py:2: FutureWarning: In a future version of pandas all arguments of DataFrame.drop except for the argument 'labels' will be keyword-only\n",
      "  X = df_T5.drop(\"NUM_OF_BASKETS\",1)\n"
     ]
    }
   ],
   "source": [
    "y = df_T5.NUM_OF_BASKETS\n",
    "X = df_T5.drop(\"NUM_OF_BASKETS\",1)\n",
    "colnames = X.columns"
   ]
  },
  {
   "cell_type": "code",
   "execution_count": 59,
   "id": "72030378",
   "metadata": {},
   "outputs": [
    {
     "data": {
      "text/plain": [
       "1.0     1281\n",
       "39.0    1281\n",
       "2.0     1269\n",
       "3.0     1268\n",
       "Name: NUM_OF_BASKETS, dtype: int64"
      ]
     },
     "execution_count": 59,
     "metadata": {},
     "output_type": "execute_result"
    }
   ],
   "source": [
    "from imblearn.over_sampling import SMOTE\n",
    "smote = SMOTE(sampling_strategy = 'minority')\n",
    "X_sm, y_sm = smote.fit_resample(X,y)\n",
    "\n",
    "y_sm.value_counts()"
   ]
  },
  {
   "cell_type": "code",
   "execution_count": 60,
   "id": "277e64b1-21fc-4218-a128-14613bb22157",
   "metadata": {},
   "outputs": [],
   "source": [
    "from sklearn import linear_model\n",
    "from sklearn.model_selection import train_test_split, GridSearchCV\n",
    "#Split data into train and test\n",
    "X_train, X_test, y_train, y_test = train_test_split(X_sm, y_sm, test_size=0.3, random_state=10)"
   ]
  },
  {
   "cell_type": "code",
   "execution_count": 61,
   "id": "beb4bb65-270c-4359-8504-84e3e4046edb",
   "metadata": {},
   "outputs": [],
   "source": [
    "lrm=linear_model.LinearRegression()\n",
    "lrm_model = lrm.fit(X_train,y_train)\n",
    "lrm_pred = lrm.predict(X_test)"
   ]
  },
  {
   "cell_type": "code",
   "execution_count": 62,
   "id": "860c2d4d-87a5-4d45-bf71-8baf48d2063e",
   "metadata": {},
   "outputs": [
    {
     "data": {
      "text/plain": [
       "array([ 5.40849903,  1.99836979,  3.31831009,  4.31966813, 25.30344035,\n",
       "        5.46049545,  3.45208618,  3.17457583,  0.80499389,  4.04172941])"
      ]
     },
     "execution_count": 62,
     "metadata": {},
     "output_type": "execute_result"
    }
   ],
   "source": [
    "lrm_pred[0:10]"
   ]
  },
  {
   "cell_type": "code",
   "execution_count": 63,
   "id": "e5ef0b72-ecd4-4db3-ac54-2dca8f410875",
   "metadata": {},
   "outputs": [
    {
     "data": {
      "text/plain": [
       "2193     3.0\n",
       "890      3.0\n",
       "1450     2.0\n",
       "2773     3.0\n",
       "4085    39.0\n",
       "406      2.0\n",
       "1731     3.0\n",
       "1207     2.0\n",
       "885      2.0\n",
       "2719     1.0\n",
       "Name: NUM_OF_BASKETS, dtype: float64"
      ]
     },
     "execution_count": 63,
     "metadata": {},
     "output_type": "execute_result"
    }
   ],
   "source": [
    "y_test[0:10]"
   ]
  },
  {
   "cell_type": "code",
   "execution_count": 64,
   "id": "ad8f8e35-4d39-46ae-aa01-8a472904feb7",
   "metadata": {},
   "outputs": [
    {
     "data": {
      "text/plain": [
       "Text(0, 0.5, 'Predicted values')"
      ]
     },
     "execution_count": 64,
     "metadata": {},
     "output_type": "execute_result"
    },
    {
     "data": {
      "image/png": "[encoded data removed]",
      "text/plain": [
       "<Figure size 432x288 with 1 Axes>"
      ]
     },
     "metadata": {
      "needs_background": "light"
     },
     "output_type": "display_data"
    }
   ],
   "source": [
    "plt.scatter(y_test, lrm_pred)\n",
    "plt.title(\"Title\")\n",
    "plt.xlabel('Actual values')\n",
    "plt.ylabel('Predicted values')\n"
   ]
  },
  {
   "cell_type": "markdown",
   "id": "a5e82e0c",
   "metadata": {},
   "source": [
    "# Multinomial Logistic Regression"
   ]
  },
  {
   "cell_type": "code",
   "execution_count": 65,
   "id": "6a7f6bd0",
   "metadata": {},
   "outputs": [],
   "source": [
    "from sklearn.model_selection import cross_val_score\n",
    "from sklearn.model_selection import RepeatedStratifiedKFold\n",
    "from sklearn.linear_model import LogisticRegression\n",
    "from numpy import mean\n",
    "from numpy import std\n",
    "from sklearn.model_selection import train_test_split, GridSearchCV\n",
    "from sklearn.metrics import accuracy_score, confusion_matrix \n",
    "from sklearn.metrics import accuracy_score, precision_score, recall_score, f1_score\n",
    "from sklearn.metrics import roc_curve\n",
    "from sklearn.metrics import roc_auc_score, r2_score, mean_squared_error\n",
    "from sklearn.metrics import precision_recall_curve\n",
    "from imblearn.over_sampling import SMOTE\n",
    "from sklearn.model_selection import validation_curve\n",
    "from sklearn.multiclass import OneVsRestClassifier"
   ]
  },
  {
   "cell_type": "code",
   "execution_count": 66,
   "id": "807fd814",
   "metadata": {},
   "outputs": [
    {
     "name": "stderr",
     "output_type": "stream",
     "text": [
      "C:\\Users\\User\\AppData\\Local\\Temp/ipykernel_2880/229831941.py:2: FutureWarning: In a future version of pandas all arguments of DataFrame.drop except for the argument 'labels' will be keyword-only\n",
      "  X = df_T5.drop(\"NUM_OF_BASKETS\",1)\n"
     ]
    }
   ],
   "source": [
    "y = df_T5.NUM_OF_BASKETS\n",
    "X = df_T5.drop(\"NUM_OF_BASKETS\",1)\n",
    "colnames = X.columns"
   ]
  },
  {
   "cell_type": "code",
   "execution_count": 67,
   "id": "f5df97c5",
   "metadata": {},
   "outputs": [
    {
     "data": {
      "text/plain": [
       "1.0     1281\n",
       "39.0    1281\n",
       "2.0     1269\n",
       "3.0     1268\n",
       "Name: NUM_OF_BASKETS, dtype: int64"
      ]
     },
     "execution_count": 67,
     "metadata": {},
     "output_type": "execute_result"
    }
   ],
   "source": [
    "from imblearn.over_sampling import SMOTE\n",
    "smote = SMOTE(sampling_strategy = 'minority')\n",
    "X_sm, y_sm = smote.fit_resample(X,y)\n",
    "\n",
    "y_sm.value_counts()"
   ]
  },
  {
   "cell_type": "code",
   "execution_count": 68,
   "id": "cc0c49e0",
   "metadata": {},
   "outputs": [],
   "source": [
    "X_train, X_test, y_train, y_test = train_test_split(X_sm, y_sm, test_size=0.3, random_state=0) #70% train 30% test"
   ]
  },
  {
   "cell_type": "code",
   "execution_count": 69,
   "id": "05ff839d",
   "metadata": {},
   "outputs": [],
   "source": [
    "model = OneVsRestClassifier(LogisticRegression(multi_class='multinomial', C=0.15, penalty=\"l2\", solver='lbfgs',max_iter=5000))"
   ]
  },
  {
   "cell_type": "code",
   "execution_count": 70,
   "id": "9e57fc23",
   "metadata": {},
   "outputs": [
    {
     "name": "stdout",
     "output_type": "stream",
     "text": [
      "Accuracy =  0.4803921568627451\n",
      "Precision =  0.505436412099208\n",
      "Recall =  0.4803921568627451\n"
     ]
    }
   ],
   "source": [
    "model.fit(X_train, y_train)\n",
    "\n",
    "#Predict using model\n",
    "y_pred = model.predict(X_test)\n",
    "\n",
    "#Saving accuracy score in table\n",
    "result = accuracy_score(y_test, y_pred)\n",
    "precision = precision_score(y_test,y_pred,average='weighted')\n",
    "recall = recall_score(y_test,y_pred, average='weighted')\n",
    "print(\"Accuracy = \",result)\n",
    "print(\"Precision = \", precision)\n",
    "print(\"Recall = \", recall)"
   ]
  },
  {
   "cell_type": "code",
   "execution_count": 71,
   "id": "db59b2b3",
   "metadata": {},
   "outputs": [],
   "source": [
    "# roc curve for classes\n",
    "fpr = {}\n",
    "tpr = {}\n",
    "thresh ={}\n",
    "\n",
    "n_class = 4"
   ]
  },
  {
   "cell_type": "code",
   "execution_count": 72,
   "id": "6a1c5018",
   "metadata": {},
   "outputs": [
    {
     "name": "stderr",
     "output_type": "stream",
     "text": [
      "C:\\Users\\User\\anaconda3\\lib\\site-packages\\sklearn\\metrics\\_ranking.py:999: UndefinedMetricWarning: No positive samples in y_true, true positive value should be meaningless\n",
      "  warnings.warn(\n"
     ]
    },
    {
     "data": {
      "image/png": "[encoded data removed]",
      "text/plain": [
       "<Figure size 432x288 with 1 Axes>"
      ]
     },
     "metadata": {
      "needs_background": "light"
     },
     "output_type": "display_data"
    }
   ],
   "source": [
    "for i in range(n_class):    \n",
    "    fpr[i], tpr[i], thresh[i] = roc_curve(y_test, y_pred, pos_label=i)\n",
    "    \n",
    "# plotting    \n",
    "plt.plot(fpr[1], tpr[1], linestyle='--',color='green', label='Class 1 vs Rest')\n",
    "plt.plot(fpr[2], tpr[2], linestyle='--',color='blue', label='Class 2 vs Rest')\n",
    "plt.plot(fpr[3], tpr[3], linestyle='--',color='orange', label='Class 2 vs Rest')\n",
    "plt.title('Multiclass ROC curve')\n",
    "plt.xlabel('False Positive Rate')\n",
    "plt.ylabel('True Positive rate')\n",
    "plt.legend(loc='best')\n",
    "plt.savefig('Multiclass ROC',dpi=300);   "
   ]
  },
  {
   "cell_type": "markdown",
   "id": "4ccdd466-b497-4d58-bae1-06df68b21eb4",
   "metadata": {},
   "source": [
    "# Classification Models"
   ]
  },
  {
   "cell_type": "markdown",
   "id": "0b6f9525-7107-4841-9b87-82d9fe4007d0",
   "metadata": {},
   "source": [
    "# Random Forest"
   ]
  },
  {
   "cell_type": "code",
   "execution_count": 73,
   "id": "f2b368f7-5e60-4ebf-adc7-093454018e68",
   "metadata": {},
   "outputs": [],
   "source": [
    "from sklearn.model_selection import train_test_split, GridSearchCV\n",
    "from sklearn.ensemble import RandomForestClassifier\n",
    "\n",
    "from sklearn.model_selection import cross_val_score, cross_val_predict\n",
    "from sklearn.naive_bayes import GaussianNB\n",
    "from sklearn.metrics import accuracy_score, confusion_matrix \n",
    "from sklearn.pipeline import Pipeline\n",
    "from sklearn.metrics import confusion_matrix\n",
    "from sklearn.metrics import accuracy_score, precision_score, recall_score, f1_score\n",
    "\n",
    "from sklearn.metrics import roc_curve\n",
    "from sklearn.metrics import roc_auc_score\n",
    "from sklearn.metrics import precision_recall_curve\n",
    "from imblearn.over_sampling import SMOTE"
   ]
  },
  {
   "cell_type": "code",
   "execution_count": 74,
   "id": "29bfc015-3754-4aaf-b92f-afc799f5955a",
   "metadata": {},
   "outputs": [
    {
     "name": "stderr",
     "output_type": "stream",
     "text": [
      "C:\\Users\\User\\AppData\\Local\\Temp/ipykernel_2880/3608236758.py:2: FutureWarning: In a future version of pandas all arguments of DataFrame.drop except for the argument 'labels' will be keyword-only\n",
      "  X = df_le.drop(\"BASKET_SIZE_LE\",1)\n"
     ]
    }
   ],
   "source": [
    "y = df_le.BASKET_SIZE_LE\n",
    "X = df_le.drop(\"BASKET_SIZE_LE\",1)\n",
    "colnames = X.columns"
   ]
  },
  {
   "cell_type": "code",
   "execution_count": 75,
   "id": "5e9d73e5-1c40-4cf5-ae2c-20289f6f74d5",
   "metadata": {},
   "outputs": [
    {
     "data": {
      "text/plain": [
       "0    2402\n",
       "1    2402\n",
       "Name: BASKET_SIZE_LE, dtype: int64"
      ]
     },
     "execution_count": 75,
     "metadata": {},
     "output_type": "execute_result"
    }
   ],
   "source": [
    "smote = SMOTE(sampling_strategy = 'minority')\n",
    "X_sm, y_sm = smote.fit_resample(X,y)\n",
    "\n",
    "y_sm.value_counts()"
   ]
  },
  {
   "cell_type": "code",
   "execution_count": 76,
   "id": "bf367e5d-6c92-41f1-b10c-8fd1222d6edb",
   "metadata": {},
   "outputs": [],
   "source": [
    "#Smote split data \n",
    "X_train, X_test, y_train, y_test = train_test_split(X_sm, y_sm, test_size=0.3, random_state=0, stratify=y_sm) #70% train 30% test"
   ]
  },
  {
   "cell_type": "code",
   "execution_count": 77,
   "id": "dc3122d7-04fe-45f7-bc8e-09386b84edd9",
   "metadata": {},
   "outputs": [],
   "source": [
    "n_estimators=[int(x) for x in np.linspace(start=10, stop=400, num=10)]\n",
    "bootstrap=[True,False]\n",
    "max_depth=[None]"
   ]
  },
  {
   "cell_type": "code",
   "execution_count": 78,
   "id": "a276ef71-0195-4598-9f30-dd8a18e8665f",
   "metadata": {},
   "outputs": [],
   "source": [
    "param_grid={'n_estimators': n_estimators,\n",
    "            'bootstrap': bootstrap,\n",
    "            'max_depth': max_depth\n",
    "            }"
   ]
  },
  {
   "cell_type": "code",
   "execution_count": null,
   "id": "0b19c83a-00bb-4cc0-8efe-c9c612350bff",
   "metadata": {},
   "outputs": [
    {
     "name": "stdout",
     "output_type": "stream",
     "text": [
      "Fitting 3 folds for each of 20 candidates, totalling 60 fits\n"
     ]
    }
   ],
   "source": [
    "rfModel = RandomForestClassifier()\n",
    "rfGrid = GridSearchCV(estimator= rfModel, param_grid=param_grid, cv=3, verbose=2, n_jobs=4)\n",
    "rfGrid.fit(X_train, y_train)"
   ]
  },
  {
   "cell_type": "code",
   "execution_count": null,
   "id": "4f96585c-d6c7-4c1f-8125-036980349f02",
   "metadata": {},
   "outputs": [],
   "source": [
    "rfGrid.best_params_"
   ]
  },
  {
   "cell_type": "code",
   "execution_count": null,
   "id": "cb451120-8a07-4ae6-b43e-4ca5d989552d",
   "metadata": {},
   "outputs": [],
   "source": [
    "rf=RandomForestClassifier(n_estimators=226, bootstrap=True,max_depth=None)\n",
    "rf.fit(X_train, y_train)"
   ]
  },
  {
   "cell_type": "code",
   "execution_count": null,
   "id": "142d4a95-ca31-4c52-8405-77526f7453f5",
   "metadata": {},
   "outputs": [],
   "source": [
    "y_predicted = rf.predict(X_test)"
   ]
  },
  {
   "cell_type": "markdown",
   "id": "5eb60065-3463-433c-b89c-7bedc768f3c4",
   "metadata": {
    "tags": []
   },
   "source": [
    "# Accuracy"
   ]
  },
  {
   "cell_type": "code",
   "execution_count": null,
   "id": "48e52b86-553a-4bad-9e7c-b68d122dc776",
   "metadata": {
    "tags": []
   },
   "outputs": [],
   "source": [
    "score = rf.score(X_test, y_test)\n",
    "print(\"Accuracy: %.2f\" % score)"
   ]
  },
  {
   "cell_type": "markdown",
   "id": "fed6d9d2-2dd1-4ea8-941d-1b186e4d3298",
   "metadata": {},
   "source": [
    "# AUC"
   ]
  },
  {
   "cell_type": "code",
   "execution_count": null,
   "id": "2a1e564f-e8f6-42dc-bfc7-13750ff91661",
   "metadata": {},
   "outputs": [],
   "source": [
    "prob_RF = rf.predict_proba(X_test)\n",
    "prob_RF = prob_RF[:, 1]\n",
    "\n",
    "auc_RF= roc_auc_score(y_test, prob_RF)\n",
    "print('AUC: %.2f' % auc_RF)"
   ]
  },
  {
   "cell_type": "code",
   "execution_count": null,
   "id": "2c53a639-ee71-4539-93a4-a50656a3cc74",
   "metadata": {},
   "outputs": [],
   "source": [
    "fpr_RF, tpr_RF, thresholds_RF = roc_curve(y_test, prob_RF) \n",
    "\n",
    "plt.plot(fpr_RF, tpr_RF, color='blue', label='RF') \n",
    "plt.plot([0, 1], [0, 1], color='red', linestyle='--')\n",
    "plt.xlabel('False Positive Rate')\n",
    "plt.ylabel('True Positive Rate')\n",
    "plt.title('Receiver Operating Characteristic (ROC) Curve')\n",
    "plt.legend()"
   ]
  },
  {
   "cell_type": "markdown",
   "id": "8fc71b61-c86a-4f27-b279-fa2598f150f5",
   "metadata": {},
   "source": [
    "# Confusion Matrix"
   ]
  },
  {
   "cell_type": "code",
   "execution_count": null,
   "id": "d789ca13-90f6-4d2d-a46e-555dba514517",
   "metadata": {},
   "outputs": [],
   "source": [
    "confusion_majority = confusion_matrix(y_test, y_predicted)\n",
    "\n",
    "print('Precision= {:.2f}'.format(precision_score(y_test, y_predicted)))\n",
    "print('Recall= {:.2f}'. format(recall_score(y_test, y_predicted)))\n",
    "print('F1= {:.2f}'. format(f1_score(y_test, y_predicted)))\n",
    "print('Accuracy= {:.2f}'. format(accuracy_score(y_test, y_predicted)))"
   ]
  },
  {
   "cell_type": "code",
   "execution_count": null,
   "id": "6f6d1629-92b3-40d4-a465-00ab25af2aa1",
   "metadata": {},
   "outputs": [],
   "source": [
    "confusion_matrix(y_test,y_predicted)\n",
    "\n",
    "pd.crosstab(y_test,y_predicted, rownames =['Actual'], colnames=['Predicted'], margins=True)"
   ]
  },
  {
   "cell_type": "markdown",
   "id": "0c97d39c-578c-480d-9060-8a214d259609",
   "metadata": {},
   "source": [
    "# Naive Bayes"
   ]
  },
  {
   "cell_type": "code",
   "execution_count": null,
   "id": "714ca4b1-ef75-4428-8600-32a752d82c36",
   "metadata": {},
   "outputs": [],
   "source": []
  },
  {
   "cell_type": "code",
   "execution_count": null,
   "id": "27d68c8a",
   "metadata": {
    "tags": []
   },
   "outputs": [],
   "source": [
    "smote = SMOTE(sampling_strategy = 'minority')\n",
    "X_sm, y_sm = smote.fit_resample(X,y)\n",
    "\n",
    "y_sm.value_counts()"
   ]
  },
  {
   "cell_type": "code",
   "execution_count": null,
   "id": "0f453b33",
   "metadata": {},
   "outputs": [],
   "source": [
    "X_train, X_test, y_train, y_test = train_test_split(X_sm, y_sm, test_size=0.3, random_state=0, stratify=y_sm) #70% train 30% test"
   ]
  },
  {
   "cell_type": "code",
   "execution_count": null,
   "id": "b314abe1",
   "metadata": {},
   "outputs": [],
   "source": [
    "y_train.value_counts()"
   ]
  },
  {
   "cell_type": "code",
   "execution_count": null,
   "id": "96436d0f",
   "metadata": {},
   "outputs": [],
   "source": [
    "param_grid_nb = {\n",
    "    'var_smoothing': np.logspace(0,-9, num=100)\n",
    "}"
   ]
  },
  {
   "cell_type": "code",
   "execution_count": null,
   "id": "581830de",
   "metadata": {},
   "outputs": [],
   "source": [
    "nbModel_grid = GridSearchCV(estimator=GaussianNB(), param_grid=param_grid_nb,verbose=1,cv=10,n_jobs=-1)"
   ]
  },
  {
   "cell_type": "code",
   "execution_count": null,
   "id": "b2947199",
   "metadata": {},
   "outputs": [],
   "source": [
    "nbModel_grid.fit(X_train,y_train)"
   ]
  },
  {
   "cell_type": "code",
   "execution_count": null,
   "id": "71e79f9a",
   "metadata": {},
   "outputs": [],
   "source": [
    "print(nbModel_grid.best_estimator_)"
   ]
  },
  {
   "cell_type": "code",
   "execution_count": null,
   "id": "2d85fc35",
   "metadata": {},
   "outputs": [],
   "source": [
    "nb = GaussianNB(priors = None, var_smoothing = 0.0001)"
   ]
  },
  {
   "cell_type": "code",
   "execution_count": null,
   "id": "652f9a64",
   "metadata": {},
   "outputs": [],
   "source": [
    "nb = GaussianNB()"
   ]
  },
  {
   "cell_type": "code",
   "execution_count": null,
   "id": "d151852b",
   "metadata": {},
   "outputs": [],
   "source": [
    "nb.fit(X_train,y_train)"
   ]
  },
  {
   "cell_type": "code",
   "execution_count": null,
   "id": "edbb5b08",
   "metadata": {},
   "outputs": [],
   "source": [
    "y_pred = nb.predict(X_test)"
   ]
  },
  {
   "cell_type": "markdown",
   "id": "ecf7fbb5-d613-47a1-840e-304cbe4069db",
   "metadata": {},
   "source": [
    "# Accuracy"
   ]
  },
  {
   "cell_type": "code",
   "execution_count": null,
   "id": "784bcfff-e57a-4532-bc83-51bd14d1f9b9",
   "metadata": {},
   "outputs": [],
   "source": [
    "score = nb.score(X_test, y_test)\n",
    "print(\"Accuracy: \",score)"
   ]
  },
  {
   "cell_type": "markdown",
   "id": "db98714e-3f0b-4196-9c09-301328628b9e",
   "metadata": {},
   "source": [
    "## AUC"
   ]
  },
  {
   "cell_type": "code",
   "execution_count": null,
   "id": "1c0d8b27-dfe2-442a-9ed1-ddb2ce7d110c",
   "metadata": {},
   "outputs": [],
   "source": [
    "prob_NB = nb.predict_proba(X_test)\n",
    "prob_NB = prob_NB[:, 1]\n",
    "\n",
    "auc_NB= roc_auc_score(y_test, prob_NB)\n",
    "print('AUC: %.2f' % auc_NB)"
   ]
  },
  {
   "cell_type": "code",
   "execution_count": null,
   "id": "cb6a9a30-7da8-4360-8274-b64ff8a69ce5",
   "metadata": {},
   "outputs": [],
   "source": [
    "fpr_NB, tpr_NB, thresholds_NB = roc_curve(y_test, prob_NB) \n",
    "\n",
    "plt.plot(fpr_NB, tpr_NB, color='orange', label='NB') \n",
    "plt.plot([0, 1], [0, 1], color='green', linestyle='--')\n",
    "plt.xlabel('False Positive Rate')\n",
    "plt.ylabel('True Positive Rate')\n",
    "plt.title('Receiver Operating Characteristic (ROC) Curve')\n",
    "plt.legend()"
   ]
  },
  {
   "cell_type": "markdown",
   "id": "22a0313d-40a0-446a-a9a8-edb7d23c3b9b",
   "metadata": {},
   "source": [
    "## Confusion Matrix"
   ]
  },
  {
   "cell_type": "code",
   "execution_count": null,
   "id": "e4b839ba-3b2d-42bd-8ae6-b16f181cfc09",
   "metadata": {},
   "outputs": [],
   "source": [
    "confusion_majority = confusion_matrix(y_test, y_pred)\n",
    "\n",
    "print('Precision= {:.2f}'.format(precision_score(y_test, y_pred)))\n",
    "print('Recall= {:.2f}'. format(recall_score(y_test, y_pred)))\n",
    "print('F1= {:.2f}'. format(f1_score(y_test, y_pred)))\n",
    "print('Accuracy= {:.2f}'. format(accuracy_score(y_test, y_pred)))"
   ]
  },
  {
   "cell_type": "code",
   "execution_count": null,
   "id": "a1135b84-e5d0-4c27-b86e-f9e0f3aa227f",
   "metadata": {},
   "outputs": [],
   "source": [
    "confusion_matrix(y_test,y_pred)\n",
    "\n",
    "pd.crosstab(y_test,y_pred, rownames =['Actual'], colnames=['Predicted'], margins=True)"
   ]
  }
 ],
 "metadata": {
  "kernelspec": {
   "display_name": "Python 3 (ipykernel)",
   "language": "python",
   "name": "python3"
  },
  "language_info": {
   "codemirror_mode": {
    "name": "ipython",
    "version": 3
   },
   "file_extension": ".py",
   "mimetype": "text/x-python",
   "name": "python",
   "nbconvert_exporter": "python",
   "pygments_lexer": "ipython3",
   "version": "3.8.5"
  }
 },
 "nbformat": 4,
 "nbformat_minor": 5
}
